{
 "cells": [
  {
   "cell_type": "code",
   "execution_count": 1,
   "metadata": {},
   "outputs": [],
   "source": [
    "import numpy as np\n",
    "import pandas as pd\n",
    "from pathlib import Path\n",
    "%matplotlib inline"
   ]
  },
  {
   "cell_type": "markdown",
   "metadata": {},
   "source": [
    "# Regression Analysis: Seasonal Effects with Sklearn Linear Regression\n",
    "In this notebook, you will build a SKLearn linear regression model to predict Yen futures (\"settle\") returns with *lagged* Yen futures returns. "
   ]
  },
  {
   "cell_type": "code",
   "execution_count": 2,
   "metadata": {},
   "outputs": [
    {
     "data": {
      "text/html": [
       "<div>\n",
       "<style scoped>\n",
       "    .dataframe tbody tr th:only-of-type {\n",
       "        vertical-align: middle;\n",
       "    }\n",
       "\n",
       "    .dataframe tbody tr th {\n",
       "        vertical-align: top;\n",
       "    }\n",
       "\n",
       "    .dataframe thead th {\n",
       "        text-align: right;\n",
       "    }\n",
       "</style>\n",
       "<table border=\"1\" class=\"dataframe\">\n",
       "  <thead>\n",
       "    <tr style=\"text-align: right;\">\n",
       "      <th></th>\n",
       "      <th>Open</th>\n",
       "      <th>High</th>\n",
       "      <th>Low</th>\n",
       "      <th>Last</th>\n",
       "      <th>Change</th>\n",
       "      <th>Settle</th>\n",
       "      <th>Volume</th>\n",
       "      <th>Previous Day Open Interest</th>\n",
       "    </tr>\n",
       "    <tr>\n",
       "      <th>Date</th>\n",
       "      <th></th>\n",
       "      <th></th>\n",
       "      <th></th>\n",
       "      <th></th>\n",
       "      <th></th>\n",
       "      <th></th>\n",
       "      <th></th>\n",
       "      <th></th>\n",
       "    </tr>\n",
       "  </thead>\n",
       "  <tbody>\n",
       "    <tr>\n",
       "      <td>1976-08-02</td>\n",
       "      <td>3398.0</td>\n",
       "      <td>3401.0</td>\n",
       "      <td>3398.0</td>\n",
       "      <td>3401.0</td>\n",
       "      <td>NaN</td>\n",
       "      <td>3401.0</td>\n",
       "      <td>2.0</td>\n",
       "      <td>1.0</td>\n",
       "    </tr>\n",
       "    <tr>\n",
       "      <td>1976-08-03</td>\n",
       "      <td>3401.0</td>\n",
       "      <td>3401.0</td>\n",
       "      <td>3401.0</td>\n",
       "      <td>3401.0</td>\n",
       "      <td>NaN</td>\n",
       "      <td>3401.0</td>\n",
       "      <td>0.0</td>\n",
       "      <td>1.0</td>\n",
       "    </tr>\n",
       "    <tr>\n",
       "      <td>1976-08-04</td>\n",
       "      <td>3401.0</td>\n",
       "      <td>3401.0</td>\n",
       "      <td>3401.0</td>\n",
       "      <td>3401.0</td>\n",
       "      <td>NaN</td>\n",
       "      <td>3401.0</td>\n",
       "      <td>0.0</td>\n",
       "      <td>1.0</td>\n",
       "    </tr>\n",
       "    <tr>\n",
       "      <td>1976-08-05</td>\n",
       "      <td>3401.0</td>\n",
       "      <td>3401.0</td>\n",
       "      <td>3401.0</td>\n",
       "      <td>3401.0</td>\n",
       "      <td>NaN</td>\n",
       "      <td>3401.0</td>\n",
       "      <td>0.0</td>\n",
       "      <td>1.0</td>\n",
       "    </tr>\n",
       "    <tr>\n",
       "      <td>1976-08-06</td>\n",
       "      <td>3401.0</td>\n",
       "      <td>3401.0</td>\n",
       "      <td>3401.0</td>\n",
       "      <td>3401.0</td>\n",
       "      <td>NaN</td>\n",
       "      <td>3401.0</td>\n",
       "      <td>0.0</td>\n",
       "      <td>1.0</td>\n",
       "    </tr>\n",
       "  </tbody>\n",
       "</table>\n",
       "</div>"
      ],
      "text/plain": [
       "              Open    High     Low    Last  Change  Settle  Volume  \\\n",
       "Date                                                                 \n",
       "1976-08-02  3398.0  3401.0  3398.0  3401.0     NaN  3401.0     2.0   \n",
       "1976-08-03  3401.0  3401.0  3401.0  3401.0     NaN  3401.0     0.0   \n",
       "1976-08-04  3401.0  3401.0  3401.0  3401.0     NaN  3401.0     0.0   \n",
       "1976-08-05  3401.0  3401.0  3401.0  3401.0     NaN  3401.0     0.0   \n",
       "1976-08-06  3401.0  3401.0  3401.0  3401.0     NaN  3401.0     0.0   \n",
       "\n",
       "            Previous Day Open Interest  \n",
       "Date                                    \n",
       "1976-08-02                         1.0  \n",
       "1976-08-03                         1.0  \n",
       "1976-08-04                         1.0  \n",
       "1976-08-05                         1.0  \n",
       "1976-08-06                         1.0  "
      ]
     },
     "execution_count": 2,
     "metadata": {},
     "output_type": "execute_result"
    }
   ],
   "source": [
    "# Futures contract on the Yen-dollar exchange rate:\n",
    "# This is the continuous chain of the futures contracts that are 1 month to expiration\n",
    "yen_futures = pd.read_csv(\n",
    "    Path(\"yen.csv\"), index_col=\"Date\", infer_datetime_format=True, parse_dates=True\n",
    ")\n",
    "yen_futures.head()"
   ]
  },
  {
   "cell_type": "code",
   "execution_count": 3,
   "metadata": {},
   "outputs": [
    {
     "data": {
      "text/html": [
       "<div>\n",
       "<style scoped>\n",
       "    .dataframe tbody tr th:only-of-type {\n",
       "        vertical-align: middle;\n",
       "    }\n",
       "\n",
       "    .dataframe tbody tr th {\n",
       "        vertical-align: top;\n",
       "    }\n",
       "\n",
       "    .dataframe thead th {\n",
       "        text-align: right;\n",
       "    }\n",
       "</style>\n",
       "<table border=\"1\" class=\"dataframe\">\n",
       "  <thead>\n",
       "    <tr style=\"text-align: right;\">\n",
       "      <th></th>\n",
       "      <th>Open</th>\n",
       "      <th>High</th>\n",
       "      <th>Low</th>\n",
       "      <th>Last</th>\n",
       "      <th>Change</th>\n",
       "      <th>Settle</th>\n",
       "      <th>Volume</th>\n",
       "      <th>Previous Day Open Interest</th>\n",
       "    </tr>\n",
       "    <tr>\n",
       "      <th>Date</th>\n",
       "      <th></th>\n",
       "      <th></th>\n",
       "      <th></th>\n",
       "      <th></th>\n",
       "      <th></th>\n",
       "      <th></th>\n",
       "      <th></th>\n",
       "      <th></th>\n",
       "    </tr>\n",
       "  </thead>\n",
       "  <tbody>\n",
       "    <tr>\n",
       "      <td>1990-01-02</td>\n",
       "      <td>6954.0</td>\n",
       "      <td>6954.0</td>\n",
       "      <td>6835.0</td>\n",
       "      <td>6847.0</td>\n",
       "      <td>NaN</td>\n",
       "      <td>6847.0</td>\n",
       "      <td>48336.0</td>\n",
       "      <td>51473.0</td>\n",
       "    </tr>\n",
       "    <tr>\n",
       "      <td>1990-01-03</td>\n",
       "      <td>6877.0</td>\n",
       "      <td>6910.0</td>\n",
       "      <td>6865.0</td>\n",
       "      <td>6887.0</td>\n",
       "      <td>NaN</td>\n",
       "      <td>6887.0</td>\n",
       "      <td>38206.0</td>\n",
       "      <td>53860.0</td>\n",
       "    </tr>\n",
       "    <tr>\n",
       "      <td>1990-01-04</td>\n",
       "      <td>6937.0</td>\n",
       "      <td>7030.0</td>\n",
       "      <td>6924.0</td>\n",
       "      <td>7008.0</td>\n",
       "      <td>NaN</td>\n",
       "      <td>7008.0</td>\n",
       "      <td>49649.0</td>\n",
       "      <td>55699.0</td>\n",
       "    </tr>\n",
       "    <tr>\n",
       "      <td>1990-01-05</td>\n",
       "      <td>6952.0</td>\n",
       "      <td>6985.0</td>\n",
       "      <td>6942.0</td>\n",
       "      <td>6950.0</td>\n",
       "      <td>NaN</td>\n",
       "      <td>6950.0</td>\n",
       "      <td>29944.0</td>\n",
       "      <td>53111.0</td>\n",
       "    </tr>\n",
       "    <tr>\n",
       "      <td>1990-01-08</td>\n",
       "      <td>6936.0</td>\n",
       "      <td>6972.0</td>\n",
       "      <td>6936.0</td>\n",
       "      <td>6959.0</td>\n",
       "      <td>NaN</td>\n",
       "      <td>6959.0</td>\n",
       "      <td>19763.0</td>\n",
       "      <td>52072.0</td>\n",
       "    </tr>\n",
       "  </tbody>\n",
       "</table>\n",
       "</div>"
      ],
      "text/plain": [
       "              Open    High     Low    Last  Change  Settle   Volume  \\\n",
       "Date                                                                  \n",
       "1990-01-02  6954.0  6954.0  6835.0  6847.0     NaN  6847.0  48336.0   \n",
       "1990-01-03  6877.0  6910.0  6865.0  6887.0     NaN  6887.0  38206.0   \n",
       "1990-01-04  6937.0  7030.0  6924.0  7008.0     NaN  7008.0  49649.0   \n",
       "1990-01-05  6952.0  6985.0  6942.0  6950.0     NaN  6950.0  29944.0   \n",
       "1990-01-08  6936.0  6972.0  6936.0  6959.0     NaN  6959.0  19763.0   \n",
       "\n",
       "            Previous Day Open Interest  \n",
       "Date                                    \n",
       "1990-01-02                     51473.0  \n",
       "1990-01-03                     53860.0  \n",
       "1990-01-04                     55699.0  \n",
       "1990-01-05                     53111.0  \n",
       "1990-01-08                     52072.0  "
      ]
     },
     "execution_count": 3,
     "metadata": {},
     "output_type": "execute_result"
    }
   ],
   "source": [
    "# Trim the dataset to begin on January 1st, 1990\n",
    "yen_futures = yen_futures.loc[\"1990-01-01\":, :]\n",
    "yen_futures.head()"
   ]
  },
  {
   "cell_type": "markdown",
   "metadata": {},
   "source": [
    "# Data Preparation"
   ]
  },
  {
   "cell_type": "markdown",
   "metadata": {},
   "source": [
    "### Returns"
   ]
  },
  {
   "cell_type": "code",
   "execution_count": 5,
   "metadata": {},
   "outputs": [
    {
     "name": "stderr",
     "output_type": "stream",
     "text": [
      "C:\\Users\\travi\\Anaconda3\\lib\\site-packages\\ipykernel_launcher.py:5: SettingWithCopyWarning: \n",
      "A value is trying to be set on a copy of a slice from a DataFrame.\n",
      "Try using .loc[row_indexer,col_indexer] = value instead\n",
      "\n",
      "See the caveats in the documentation: http://pandas.pydata.org/pandas-docs/stable/user_guide/indexing.html#returning-a-view-versus-a-copy\n",
      "  \"\"\"\n"
     ]
    },
    {
     "data": {
      "text/plain": [
       "<matplotlib.axes._subplots.AxesSubplot at 0x1d505341108>"
      ]
     },
     "execution_count": 5,
     "metadata": {},
     "output_type": "execute_result"
    },
    {
     "data": {
      "image/png": "[encoded data removed]",
      "text/plain": [
       "<Figure size 720x360 with 1 Axes>"
      ]
     },
     "metadata": {
      "needs_background": "light"
     },
     "output_type": "display_data"
    }
   ],
   "source": [
    "# Create a series using \"Settle\" price percentage returns, drop any nan\"s, and check the results:\n",
    "# (Make sure to multiply the pct_change() results by 100)\n",
    "# In this case, you may have to replace inf, -inf values with np.nan\"s\n",
    "yf = yen_futures.dropna()\n",
    "yf[\"Return\"] = yf.Settle.pct_change()*100\n",
    "yf = yf.replace(-np.inf, np.nan).dropna()\n",
    "yf.tail()\n",
    "yf.Return.plot(figsize = (10,5))"
   ]
  },
  {
   "cell_type": "markdown",
   "metadata": {},
   "source": [
    "### Lagged Returns "
   ]
  },
  {
   "cell_type": "code",
   "execution_count": 8,
   "metadata": {},
   "outputs": [
    {
     "data": {
      "text/html": [
       "<div>\n",
       "<style scoped>\n",
       "    .dataframe tbody tr th:only-of-type {\n",
       "        vertical-align: middle;\n",
       "    }\n",
       "\n",
       "    .dataframe tbody tr th {\n",
       "        vertical-align: top;\n",
       "    }\n",
       "\n",
       "    .dataframe thead th {\n",
       "        text-align: right;\n",
       "    }\n",
       "</style>\n",
       "<table border=\"1\" class=\"dataframe\">\n",
       "  <thead>\n",
       "    <tr style=\"text-align: right;\">\n",
       "      <th></th>\n",
       "      <th>Open</th>\n",
       "      <th>High</th>\n",
       "      <th>Low</th>\n",
       "      <th>Last</th>\n",
       "      <th>Change</th>\n",
       "      <th>Settle</th>\n",
       "      <th>Volume</th>\n",
       "      <th>Previous Day Open Interest</th>\n",
       "      <th>Return</th>\n",
       "      <th>Lagged_Return</th>\n",
       "    </tr>\n",
       "    <tr>\n",
       "      <th>Date</th>\n",
       "      <th></th>\n",
       "      <th></th>\n",
       "      <th></th>\n",
       "      <th></th>\n",
       "      <th></th>\n",
       "      <th></th>\n",
       "      <th></th>\n",
       "      <th></th>\n",
       "      <th></th>\n",
       "      <th></th>\n",
       "    </tr>\n",
       "  </thead>\n",
       "  <tbody>\n",
       "    <tr>\n",
       "      <td>2019-10-09</td>\n",
       "      <td>9381.0</td>\n",
       "      <td>9391.5</td>\n",
       "      <td>9330.5</td>\n",
       "      <td>9343.5</td>\n",
       "      <td>38.5</td>\n",
       "      <td>9338.0</td>\n",
       "      <td>99153.0</td>\n",
       "      <td>145470.0</td>\n",
       "      <td>-0.410601</td>\n",
       "      <td>0.170931</td>\n",
       "    </tr>\n",
       "    <tr>\n",
       "      <td>2019-10-10</td>\n",
       "      <td>9343.5</td>\n",
       "      <td>9380.5</td>\n",
       "      <td>9293.5</td>\n",
       "      <td>9301.0</td>\n",
       "      <td>34.5</td>\n",
       "      <td>9303.5</td>\n",
       "      <td>159397.0</td>\n",
       "      <td>144474.0</td>\n",
       "      <td>-0.369458</td>\n",
       "      <td>-0.410601</td>\n",
       "    </tr>\n",
       "    <tr>\n",
       "      <td>2019-10-11</td>\n",
       "      <td>9308.5</td>\n",
       "      <td>9309.0</td>\n",
       "      <td>9240.0</td>\n",
       "      <td>9267.0</td>\n",
       "      <td>52.5</td>\n",
       "      <td>9251.0</td>\n",
       "      <td>158810.0</td>\n",
       "      <td>147471.0</td>\n",
       "      <td>-0.564304</td>\n",
       "      <td>-0.369458</td>\n",
       "    </tr>\n",
       "    <tr>\n",
       "      <td>2019-10-14</td>\n",
       "      <td>9259.0</td>\n",
       "      <td>9292.0</td>\n",
       "      <td>9250.5</td>\n",
       "      <td>9261.0</td>\n",
       "      <td>14.0</td>\n",
       "      <td>9265.0</td>\n",
       "      <td>69457.0</td>\n",
       "      <td>153902.0</td>\n",
       "      <td>0.151335</td>\n",
       "      <td>-0.564304</td>\n",
       "    </tr>\n",
       "    <tr>\n",
       "      <td>2019-10-15</td>\n",
       "      <td>9264.5</td>\n",
       "      <td>9280.0</td>\n",
       "      <td>9216.5</td>\n",
       "      <td>9220.0</td>\n",
       "      <td>43.5</td>\n",
       "      <td>9221.5</td>\n",
       "      <td>108342.0</td>\n",
       "      <td>151564.0</td>\n",
       "      <td>-0.469509</td>\n",
       "      <td>0.151335</td>\n",
       "    </tr>\n",
       "  </tbody>\n",
       "</table>\n",
       "</div>"
      ],
      "text/plain": [
       "              Open    High     Low    Last  Change  Settle    Volume  \\\n",
       "Date                                                                   \n",
       "2019-10-09  9381.0  9391.5  9330.5  9343.5    38.5  9338.0   99153.0   \n",
       "2019-10-10  9343.5  9380.5  9293.5  9301.0    34.5  9303.5  159397.0   \n",
       "2019-10-11  9308.5  9309.0  9240.0  9267.0    52.5  9251.0  158810.0   \n",
       "2019-10-14  9259.0  9292.0  9250.5  9261.0    14.0  9265.0   69457.0   \n",
       "2019-10-15  9264.5  9280.0  9216.5  9220.0    43.5  9221.5  108342.0   \n",
       "\n",
       "            Previous Day Open Interest    Return  Lagged_Return  \n",
       "Date                                                             \n",
       "2019-10-09                    145470.0 -0.410601       0.170931  \n",
       "2019-10-10                    144474.0 -0.369458      -0.410601  \n",
       "2019-10-11                    147471.0 -0.564304      -0.369458  \n",
       "2019-10-14                    153902.0  0.151335      -0.564304  \n",
       "2019-10-15                    151564.0 -0.469509       0.151335  "
      ]
     },
     "execution_count": 8,
     "metadata": {},
     "output_type": "execute_result"
    }
   ],
   "source": [
    "# Create a lagged return using the shift function\n",
    "yf[\"Lagged_Return\"] = yf[\"Return\"].shift()\n",
    "yf.dropna(inplace = True)\n",
    "yf.tail()"
   ]
  },
  {
   "cell_type": "markdown",
   "metadata": {},
   "source": [
    "### Train Test Split"
   ]
  },
  {
   "cell_type": "code",
   "execution_count": 9,
   "metadata": {},
   "outputs": [],
   "source": [
    "# Create a train/test split for the data using 2018-2019 for testing and the rest for training\n",
    "train = yen_futures[:'2018']\n",
    "test = yen_futures['2018':]"
   ]
  },
  {
   "cell_type": "code",
   "execution_count": 7,
   "metadata": {},
   "outputs": [],
   "source": [
    "# Create four dataframes:\n",
    "# X_train (training set using just the independent variables), X_test (test set of of just the independent variables)\n",
    "# Y_train (training set using just the \"y\" variable, i.e., \"Futures Return\"), Y_test (test set of just the \"y\" variable):\n",
    "X = \n",
    "y = "
   ]
  },
  {
   "cell_type": "code",
   "execution_count": 8,
   "metadata": {},
   "outputs": [
    {
     "data": {
      "text/html": [
       "<div>\n",
       "<style scoped>\n",
       "    .dataframe tbody tr th:only-of-type {\n",
       "        vertical-align: middle;\n",
       "    }\n",
       "\n",
       "    .dataframe tbody tr th {\n",
       "        vertical-align: top;\n",
       "    }\n",
       "\n",
       "    .dataframe thead th {\n",
       "        text-align: right;\n",
       "    }\n",
       "</style>\n",
       "<table border=\"1\" class=\"dataframe\">\n",
       "  <thead>\n",
       "    <tr style=\"text-align: right;\">\n",
       "      <th></th>\n",
       "      <th>Lagged_Return</th>\n",
       "    </tr>\n",
       "    <tr>\n",
       "      <th>Date</th>\n",
       "      <th></th>\n",
       "    </tr>\n",
       "  </thead>\n",
       "  <tbody>\n",
       "    <tr>\n",
       "      <td>2014-02-19</td>\n",
       "      <td>-0.427829</td>\n",
       "    </tr>\n",
       "    <tr>\n",
       "      <td>2014-02-20</td>\n",
       "      <td>-0.020460</td>\n",
       "    </tr>\n",
       "    <tr>\n",
       "      <td>2014-02-21</td>\n",
       "      <td>0.020465</td>\n",
       "    </tr>\n",
       "    <tr>\n",
       "      <td>2014-02-24</td>\n",
       "      <td>-0.204604</td>\n",
       "    </tr>\n",
       "    <tr>\n",
       "      <td>2014-02-25</td>\n",
       "      <td>0.020502</td>\n",
       "    </tr>\n",
       "    <tr>\n",
       "      <td>...</td>\n",
       "      <td>...</td>\n",
       "    </tr>\n",
       "    <tr>\n",
       "      <td>2018-12-24</td>\n",
       "      <td>-0.187545</td>\n",
       "    </tr>\n",
       "    <tr>\n",
       "      <td>2018-12-26</td>\n",
       "      <td>0.834485</td>\n",
       "    </tr>\n",
       "    <tr>\n",
       "      <td>2018-12-27</td>\n",
       "      <td>-0.893346</td>\n",
       "    </tr>\n",
       "    <tr>\n",
       "      <td>2018-12-28</td>\n",
       "      <td>0.464525</td>\n",
       "    </tr>\n",
       "    <tr>\n",
       "      <td>2018-12-31</td>\n",
       "      <td>0.297242</td>\n",
       "    </tr>\n",
       "  </tbody>\n",
       "</table>\n",
       "<p>1218 rows × 1 columns</p>\n",
       "</div>"
      ],
      "text/plain": [
       "            Lagged_Return\n",
       "Date                     \n",
       "2014-02-19      -0.427829\n",
       "2014-02-20      -0.020460\n",
       "2014-02-21       0.020465\n",
       "2014-02-24      -0.204604\n",
       "2014-02-25       0.020502\n",
       "...                   ...\n",
       "2018-12-24      -0.187545\n",
       "2018-12-26       0.834485\n",
       "2018-12-27      -0.893346\n",
       "2018-12-28       0.464525\n",
       "2018-12-31       0.297242\n",
       "\n",
       "[1218 rows x 1 columns]"
      ]
     },
     "execution_count": 8,
     "metadata": {},
     "output_type": "execute_result"
    }
   ],
   "source": [
    "X_train"
   ]
  },
  {
   "cell_type": "markdown",
   "metadata": {},
   "source": [
    "# Linear Regression Model"
   ]
  },
  {
   "cell_type": "code",
   "execution_count": 9,
   "metadata": {},
   "outputs": [
    {
     "data": {
      "text/plain": [
       "LinearRegression(copy_X=True, fit_intercept=True, n_jobs=None, normalize=False)"
      ]
     },
     "execution_count": 9,
     "metadata": {},
     "output_type": "execute_result"
    }
   ],
   "source": [
    "# Create a Linear Regression model and fit it to the training data\n",
    "from sklearn.linear_model import LinearRegression\n",
    "\n",
    "# Fit a SKLearn linear regression using just the training set (X_train, Y_train):\n",
    "# YOUR CODE HERE!"
   ]
  },
  {
   "cell_type": "markdown",
   "metadata": {},
   "source": [
    "# Make predictions using the Testing Data\n",
    "\n",
    "Note: We want to evaluate the model using data that it has never seen before, in this case: X_test."
   ]
  },
  {
   "cell_type": "code",
   "execution_count": 10,
   "metadata": {},
   "outputs": [],
   "source": [
    "# Make a prediction of \"y\" values using just the test dataset\n",
    "# YOUR CODE HERE!"
   ]
  },
  {
   "cell_type": "code",
   "execution_count": 11,
   "metadata": {},
   "outputs": [],
   "source": [
    "# Assemble actual y data (Y_test) with predicted y data (from just above) into two columns in a dataframe:\n",
    "# YOUR CODE HERE!"
   ]
  },
  {
   "cell_type": "code",
   "execution_count": 12,
   "metadata": {},
   "outputs": [
    {
     "data": {
      "text/plain": [
       "array([<matplotlib.axes._subplots.AxesSubplot object at 0x7fac21f4b790>,\n",
       "       <matplotlib.axes._subplots.AxesSubplot object at 0x7fac10fd8e90>],\n",
       "      dtype=object)"
      ]
     },
     "execution_count": 12,
     "metadata": {},
     "output_type": "execute_result"
    },
    {
     "data": {
      "image/png": "[encoded data removed]",
      "text/plain": [
       "<Figure size 432x288 with 2 Axes>"
      ]
     },
     "metadata": {
      "needs_background": "light"
     },
     "output_type": "display_data"
    }
   ],
   "source": [
    "# Plot the first 20 predictions vs the true values\n",
    "# YOUR CODE HERE!"
   ]
  },
  {
   "cell_type": "markdown",
   "metadata": {},
   "source": [
    "# Out-of-Sample Performance\n",
    "\n",
    "Evaluate the model using \"out-of-sample\" data (X_test and y_test)"
   ]
  },
  {
   "cell_type": "code",
   "execution_count": 13,
   "metadata": {},
   "outputs": [
    {
     "name": "stdout",
     "output_type": "stream",
     "text": [
      "Out-of-Sample Root Mean Squared Error (RMSE): 0.41521675083603804\n"
     ]
    }
   ],
   "source": [
    "from sklearn.metrics import mean_squared_error\n",
    "# Calculate the mean_squared_error (MSE) on actual versus predicted test \"y\" \n",
    "# YOUR CODE HERE!\n",
    "\n",
    "# Using that mean-squared-error, calculate the root-mean-squared error (RMSE):\n",
    "# YOUR CODE HERE!"
   ]
  },
  {
   "cell_type": "markdown",
   "metadata": {},
   "source": [
    "# In-Sample Performance\n",
    "\n",
    "Evaluate the model using in-sample data (X_train and y_train)"
   ]
  },
  {
   "cell_type": "code",
   "execution_count": 14,
   "metadata": {},
   "outputs": [
    {
     "name": "stdout",
     "output_type": "stream",
     "text": [
      "In-sample Root Mean Squared Error (RMSE): 0.5658708047560468\n"
     ]
    }
   ],
   "source": [
    "# Construct a dataframe using just the \"y\" training data:\n",
    "# YOUR CODE HERE!\n",
    "\n",
    "# Add a column of \"in-sample\" predictions to that dataframe:  \n",
    "# YOUR CODE HERE!\n",
    "\n",
    "# Calculate in-sample mean_squared_error (for comparison to out-of-sample)\n",
    "# YOUR CODE HERE!\n",
    "\n",
    "# Calculate in-sample root mean_squared_error (for comparison to out-of-sample)\n",
    "# YOUR CODE HERE!"
   ]
  },
  {
   "cell_type": "markdown",
   "metadata": {},
   "source": [
    "# Conclusions"
   ]
  },
  {
   "cell_type": "markdown",
   "metadata": {},
   "source": [
    "YOUR CONCLUSIONS HERE!"
   ]
  },
  {
   "cell_type": "markdown",
   "metadata": {},
   "source": []
  }
 ],
 "metadata": {
  "file_extension": ".py",
  "kernelspec": {
   "display_name": "Python 3",
   "language": "python",
   "name": "python3"
  },
  "language_info": {
   "codemirror_mode": {
    "name": "ipython",
    "version": 3
   },
   "file_extension": ".py",
   "mimetype": "text/x-python",
   "name": "python",
   "nbconvert_exporter": "python",
   "pygments_lexer": "ipython3",
   "version": "3.7.4"
  },
  "mimetype": "text/x-python",
  "name": "python",
  "npconvert_exporter": "python",
  "pygments_lexer": "ipython3",
  "version": 3
 },
 "nbformat": 4,
 "nbformat_minor": 4
}
