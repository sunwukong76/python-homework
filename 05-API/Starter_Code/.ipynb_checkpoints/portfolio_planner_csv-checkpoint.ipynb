{
 "cells": [
  {
   "cell_type": "code",
   "execution_count": 1,
   "metadata": {},
   "outputs": [],
   "source": [
    "import numpy as np\n",
    "import pandas as pd\n",
    "from pathlib import Path\n",
    "from datetime import datetime, timedelta\n",
    "import matplotlib.pyplot as plt\n",
    "%matplotlib inline"
   ]
  },
  {
   "cell_type": "code",
   "execution_count": 2,
   "metadata": {},
   "outputs": [],
   "source": [
    "# np.random.seed(42)"
   ]
  },
  {
   "cell_type": "markdown",
   "metadata": {},
   "source": [
    "# Portfolio Planner\n",
    "\n",
    "In this activity, you will use the iexfinance api to grab historical data for a 60/40 portfolio using `SPY` to represent the stock portion and `AGG` to represent the bonds."
   ]
  },
  {
   "cell_type": "code",
   "execution_count": 3,
   "metadata": {},
   "outputs": [],
   "source": [
    "from iexfinance.stocks import get_historical_data\n",
    "import iexfinance as iex\n",
    "# dir(iex)\n",
    "from iexfinance.refdata import get_symbols"
   ]
  },
  {
   "cell_type": "markdown",
   "metadata": {},
   "source": [
    "# Data Collection\n",
    "\n",
    "In this step, you will need to use the IEX api to fetch closing prices for the `SPY` and `AGG` tickers. Save the results as a pandas DataFrame"
   ]
  },
  {
   "cell_type": "code",
   "execution_count": 4,
   "metadata": {},
   "outputs": [
    {
     "data": {
      "text/html": [
       "<div>\n",
       "<style scoped>\n",
       "    .dataframe tbody tr th:only-of-type {\n",
       "        vertical-align: middle;\n",
       "    }\n",
       "\n",
       "    .dataframe tbody tr th {\n",
       "        vertical-align: top;\n",
       "    }\n",
       "\n",
       "    .dataframe thead th {\n",
       "        text-align: right;\n",
       "    }\n",
       "</style>\n",
       "<table border=\"1\" class=\"dataframe\">\n",
       "  <thead>\n",
       "    <tr style=\"text-align: right;\">\n",
       "      <th></th>\n",
       "      <th>symbol</th>\n",
       "      <th>exchange</th>\n",
       "      <th>name</th>\n",
       "      <th>date</th>\n",
       "      <th>type</th>\n",
       "      <th>iexId</th>\n",
       "      <th>region</th>\n",
       "      <th>currency</th>\n",
       "      <th>isEnabled</th>\n",
       "    </tr>\n",
       "  </thead>\n",
       "  <tbody>\n",
       "    <tr>\n",
       "      <th>0</th>\n",
       "      <td>A</td>\n",
       "      <td>NYS</td>\n",
       "      <td>Agilent Technologies Inc.</td>\n",
       "      <td>2020-01-22</td>\n",
       "      <td>cs</td>\n",
       "      <td>IEX_46574843354B2D52</td>\n",
       "      <td>US</td>\n",
       "      <td>USD</td>\n",
       "      <td>True</td>\n",
       "    </tr>\n",
       "    <tr>\n",
       "      <th>1</th>\n",
       "      <td>AA</td>\n",
       "      <td>NYS</td>\n",
       "      <td>Alcoa Corp.</td>\n",
       "      <td>2020-01-22</td>\n",
       "      <td>cs</td>\n",
       "      <td>IEX_4238333734532D52</td>\n",
       "      <td>US</td>\n",
       "      <td>USD</td>\n",
       "      <td>True</td>\n",
       "    </tr>\n",
       "    <tr>\n",
       "      <th>2</th>\n",
       "      <td>AAAU</td>\n",
       "      <td>PSE</td>\n",
       "      <td>Perth Mint Physical Gold ETF</td>\n",
       "      <td>2020-01-22</td>\n",
       "      <td>et</td>\n",
       "      <td>IEX_474B433136332D52</td>\n",
       "      <td>US</td>\n",
       "      <td>USD</td>\n",
       "      <td>True</td>\n",
       "    </tr>\n",
       "    <tr>\n",
       "      <th>3</th>\n",
       "      <td>AACG</td>\n",
       "      <td>NAS</td>\n",
       "      <td>ATA Creativity Global Sponsored ADR</td>\n",
       "      <td>2020-01-22</td>\n",
       "      <td>ad</td>\n",
       "      <td>IEX_44595A4C53392D52</td>\n",
       "      <td>US</td>\n",
       "      <td>USD</td>\n",
       "      <td>True</td>\n",
       "    </tr>\n",
       "    <tr>\n",
       "      <th>4</th>\n",
       "      <td>AADR</td>\n",
       "      <td>PSE</td>\n",
       "      <td>AdvisorShares Dorsey Wright ADR ETF</td>\n",
       "      <td>2020-01-22</td>\n",
       "      <td>et</td>\n",
       "      <td>IEX_5253355435362D52</td>\n",
       "      <td>US</td>\n",
       "      <td>USD</td>\n",
       "      <td>True</td>\n",
       "    </tr>\n",
       "  </tbody>\n",
       "</table>\n",
       "</div>"
      ],
      "text/plain": [
       "  symbol exchange                                 name        date type  \\\n",
       "0      A      NYS            Agilent Technologies Inc.  2020-01-22   cs   \n",
       "1     AA      NYS                          Alcoa Corp.  2020-01-22   cs   \n",
       "2   AAAU      PSE         Perth Mint Physical Gold ETF  2020-01-22   et   \n",
       "3   AACG      NAS  ATA Creativity Global Sponsored ADR  2020-01-22   ad   \n",
       "4   AADR      PSE  AdvisorShares Dorsey Wright ADR ETF  2020-01-22   et   \n",
       "\n",
       "                  iexId region currency  isEnabled  \n",
       "0  IEX_46574843354B2D52     US      USD       True  \n",
       "1  IEX_4238333734532D52     US      USD       True  \n",
       "2  IEX_474B433136332D52     US      USD       True  \n",
       "3  IEX_44595A4C53392D52     US      USD       True  \n",
       "4  IEX_5253355435362D52     US      USD       True  "
      ]
     },
     "execution_count": 4,
     "metadata": {},
     "output_type": "execute_result"
    }
   ],
   "source": [
    "tickers = pd.DataFrame(get_symbols())\n",
    "tickers.head()"
   ]
  },
  {
   "cell_type": "code",
   "execution_count": 5,
   "metadata": {},
   "outputs": [],
   "source": [
    "# COMMENTED OUT DUE TO OVERUSE OF DATA IN IEXFINANCE\n",
    "# list_of_tickers = [\"SPY\", \"AGG\"]\n",
    "# end_date = datetime.now()\n",
    "# start_date = end_date + timedelta(-365)\n",
    "\n",
    "# ticker_data = get_historical_data(list_of_tickers,start_date,end_date, output_format = \"pandas\")\n",
    "# ticker_data.head()\n",
    "\n",
    "# # ticker_data = ticker_data.drop(columns = [\"open\",\"high\",\"low\"],inplace = True)\n",
    "# # ticker_data.head()"
   ]
  },
  {
   "cell_type": "code",
   "execution_count": 6,
   "metadata": {},
   "outputs": [
    {
     "data": {
      "text/html": [
       "<div>\n",
       "<style scoped>\n",
       "    .dataframe tbody tr th:only-of-type {\n",
       "        vertical-align: middle;\n",
       "    }\n",
       "\n",
       "    .dataframe tbody tr th {\n",
       "        vertical-align: top;\n",
       "    }\n",
       "\n",
       "    .dataframe thead th {\n",
       "        text-align: right;\n",
       "    }\n",
       "</style>\n",
       "<table border=\"1\" class=\"dataframe\">\n",
       "  <thead>\n",
       "    <tr style=\"text-align: right;\">\n",
       "      <th></th>\n",
       "      <th>SPY</th>\n",
       "      <th>AGG</th>\n",
       "    </tr>\n",
       "    <tr>\n",
       "      <th>date</th>\n",
       "      <th></th>\n",
       "      <th></th>\n",
       "    </tr>\n",
       "  </thead>\n",
       "  <tbody>\n",
       "    <tr>\n",
       "      <th>2020-01-13</th>\n",
       "      <td>327.95</td>\n",
       "      <td>112.91</td>\n",
       "    </tr>\n",
       "    <tr>\n",
       "      <th>2020-01-14</th>\n",
       "      <td>327.45</td>\n",
       "      <td>113.01</td>\n",
       "    </tr>\n",
       "    <tr>\n",
       "      <th>2020-01-15</th>\n",
       "      <td>328.19</td>\n",
       "      <td>113.18</td>\n",
       "    </tr>\n",
       "    <tr>\n",
       "      <th>2020-01-16</th>\n",
       "      <td>330.92</td>\n",
       "      <td>113.18</td>\n",
       "    </tr>\n",
       "    <tr>\n",
       "      <th>2020-01-17</th>\n",
       "      <td>331.95</td>\n",
       "      <td>113.05</td>\n",
       "    </tr>\n",
       "  </tbody>\n",
       "</table>\n",
       "</div>"
      ],
      "text/plain": [
       "               SPY     AGG\n",
       "date                      \n",
       "2020-01-13  327.95  112.91\n",
       "2020-01-14  327.45  113.01\n",
       "2020-01-15  328.19  113.18\n",
       "2020-01-16  330.92  113.18\n",
       "2020-01-17  331.95  113.05"
      ]
     },
     "execution_count": 6,
     "metadata": {},
     "output_type": "execute_result"
    }
   ],
   "source": [
    "IEX_path = Path(\"../Resources/IEXCLOUD_data.csv\")\n",
    "ticker_data = pd.read_csv(IEX_path)\n",
    "ticker_data[\"date\"] =  pd.to_datetime(ticker_data.loc[:,\"date\"],infer_datetime_format = True)\n",
    "ticker_data.set_index(ticker_data[\"date\"],inplace = True)\n",
    "ticker_data.drop(columns = [\"date\"], inplace = True)\n",
    "ticker_data.tail()\n",
    "# ticker_data.info()"
   ]
  },
  {
   "cell_type": "markdown",
   "metadata": {},
   "source": [
    "# Monte Carlo Simulation\n",
    "\n",
    "In this step, you will run Monte Carlo Simulations for your portfolio to model portfolio performance at different retirement ages. \n",
    "\n",
    "Complete the following steps:\n",
    "1. Calculate the daily returns for the SPY and AGG closing prices.\n",
    "2. Calculate volatility for both the SPY and AGG closing prices.\n",
    "3. Find the last day's closing price for both stocks and save those as variables.\n",
    "4. Run a Monte Carlo Simulation of at least 500 iterations and generate at least 30 years of closing prices\n",
    "\n",
    "### HINTS:\n",
    "There are 252 trading days per year, so the number of records to generate for each Monte Carlo run will be 252 days * 30 years"
   ]
  },
  {
   "cell_type": "code",
   "execution_count": 7,
   "metadata": {},
   "outputs": [
    {
     "name": "stdout",
     "output_type": "stream",
     "text": [
      "daily avg returns SPY = 0.0009612642291769476\n",
      "daily avg returns AGG = 0.00024318932345666555\n"
     ]
    }
   ],
   "source": [
    "# Calculate the daily roi for the stocks\n",
    "# daily_returns = ticker_data.pct_change()[\"close\"]\n",
    "# daily_mean_SPY = daily_returns.mean()[\"SPY\"][\"close\"]\n",
    "# daily_mean_AGG = daily_returns.mean()[\"AGG\"][\"close\"]\n",
    "\n",
    "daily_returns = ticker_data.pct_change()\n",
    "daily_mean_SPY = daily_returns.mean()[\"SPY\"]\n",
    "daily_mean_AGG = daily_returns.mean()[\"AGG\"]\n",
    "print(f\"daily avg returns SPY = {daily_mean_SPY}\")\n",
    "print(f\"daily avg returns AGG = {daily_mean_AGG}\")"
   ]
  },
  {
   "cell_type": "code",
   "execution_count": 8,
   "metadata": {},
   "outputs": [
    {
     "name": "stdout",
     "output_type": "stream",
     "text": [
      "daily avg volatility SPY = 0.007401574798510325\n",
      "daily avg volatility AGG = 0.002084866830981002\n"
     ]
    }
   ],
   "source": [
    "# Calculate volatility\n",
    "volatility_SPY = daily_returns.std()[\"SPY\"]\n",
    "volatility_AGG = daily_returns.std()[\"AGG\"]\n",
    "print(f\"daily avg volatility SPY = {volatility_SPY}\")\n",
    "print(f\"daily avg volatility AGG = {volatility_AGG}\")"
   ]
  },
  {
   "cell_type": "code",
   "execution_count": 9,
   "metadata": {},
   "outputs": [
    {
     "name": "stdout",
     "output_type": "stream",
     "text": [
      "close price SPY = 331.95\n",
      "close price AGG = 113.05\n"
     ]
    }
   ],
   "source": [
    "# Save the last day's closing price\n",
    "close_SPY = ticker_data[\"SPY\"][-1]\n",
    "close_AGG = ticker_data[\"AGG\"][-1]\n",
    "print(f\"close price SPY = {close_SPY}\")\n",
    "print(f\"close price AGG = {close_AGG}\")"
   ]
  },
  {
   "cell_type": "code",
   "execution_count": 10,
   "metadata": {},
   "outputs": [],
   "source": [
    "# Setup the Monte Carlo Parameters\n",
    "number_simulations = 500\n",
    "num_trading_days = 252 * 30\n",
    "# number_records = 252 * 30\n",
    "sim_price = pd.DataFrame()\n",
    "monte_carlo = pd.DataFrame()"
   ]
  },
  {
   "cell_type": "code",
   "execution_count": 11,
   "metadata": {},
   "outputs": [
    {
     "data": {
      "text/html": [
       "<div>\n",
       "<style scoped>\n",
       "    .dataframe tbody tr th:only-of-type {\n",
       "        vertical-align: middle;\n",
       "    }\n",
       "\n",
       "    .dataframe tbody tr th {\n",
       "        vertical-align: top;\n",
       "    }\n",
       "\n",
       "    .dataframe thead th {\n",
       "        text-align: right;\n",
       "    }\n",
       "</style>\n",
       "<table border=\"1\" class=\"dataframe\">\n",
       "  <thead>\n",
       "    <tr style=\"text-align: right;\">\n",
       "      <th></th>\n",
       "      <th>0</th>\n",
       "      <th>1</th>\n",
       "      <th>2</th>\n",
       "      <th>3</th>\n",
       "      <th>4</th>\n",
       "      <th>5</th>\n",
       "      <th>6</th>\n",
       "      <th>7</th>\n",
       "      <th>8</th>\n",
       "      <th>9</th>\n",
       "      <th>...</th>\n",
       "      <th>490</th>\n",
       "      <th>491</th>\n",
       "      <th>492</th>\n",
       "      <th>493</th>\n",
       "      <th>494</th>\n",
       "      <th>495</th>\n",
       "      <th>496</th>\n",
       "      <th>497</th>\n",
       "      <th>498</th>\n",
       "      <th>499</th>\n",
       "    </tr>\n",
       "  </thead>\n",
       "  <tbody>\n",
       "    <tr>\n",
       "      <th>0</th>\n",
       "      <td>1.000000</td>\n",
       "      <td>1.000000</td>\n",
       "      <td>1.000000</td>\n",
       "      <td>1.000000</td>\n",
       "      <td>1.000000</td>\n",
       "      <td>1.000000</td>\n",
       "      <td>1.000000</td>\n",
       "      <td>1.000000</td>\n",
       "      <td>1.000000</td>\n",
       "      <td>1.000000</td>\n",
       "      <td>...</td>\n",
       "      <td>1.000000</td>\n",
       "      <td>1.000000</td>\n",
       "      <td>1.000000</td>\n",
       "      <td>1.000000</td>\n",
       "      <td>1.000000</td>\n",
       "      <td>1.000000</td>\n",
       "      <td>1.000000</td>\n",
       "      <td>1.000000</td>\n",
       "      <td>1.000000</td>\n",
       "      <td>1.000000</td>\n",
       "    </tr>\n",
       "    <tr>\n",
       "      <th>1</th>\n",
       "      <td>1.002990</td>\n",
       "      <td>0.997368</td>\n",
       "      <td>1.000729</td>\n",
       "      <td>0.997624</td>\n",
       "      <td>0.995425</td>\n",
       "      <td>1.001724</td>\n",
       "      <td>1.000470</td>\n",
       "      <td>0.995972</td>\n",
       "      <td>1.000390</td>\n",
       "      <td>1.012718</td>\n",
       "      <td>...</td>\n",
       "      <td>0.999063</td>\n",
       "      <td>1.002946</td>\n",
       "      <td>1.000915</td>\n",
       "      <td>0.998866</td>\n",
       "      <td>1.001682</td>\n",
       "      <td>0.995479</td>\n",
       "      <td>1.003438</td>\n",
       "      <td>1.001206</td>\n",
       "      <td>1.001985</td>\n",
       "      <td>1.006738</td>\n",
       "    </tr>\n",
       "    <tr>\n",
       "      <th>2</th>\n",
       "      <td>1.000226</td>\n",
       "      <td>0.997366</td>\n",
       "      <td>1.005457</td>\n",
       "      <td>0.995851</td>\n",
       "      <td>0.997629</td>\n",
       "      <td>1.004887</td>\n",
       "      <td>1.003516</td>\n",
       "      <td>1.005583</td>\n",
       "      <td>0.999224</td>\n",
       "      <td>1.013073</td>\n",
       "      <td>...</td>\n",
       "      <td>1.001337</td>\n",
       "      <td>1.009769</td>\n",
       "      <td>1.000181</td>\n",
       "      <td>1.009752</td>\n",
       "      <td>1.011177</td>\n",
       "      <td>0.997469</td>\n",
       "      <td>1.003561</td>\n",
       "      <td>1.000549</td>\n",
       "      <td>1.005061</td>\n",
       "      <td>1.011932</td>\n",
       "    </tr>\n",
       "    <tr>\n",
       "      <th>3</th>\n",
       "      <td>1.003974</td>\n",
       "      <td>1.000040</td>\n",
       "      <td>1.000794</td>\n",
       "      <td>0.994641</td>\n",
       "      <td>0.993237</td>\n",
       "      <td>1.010383</td>\n",
       "      <td>1.005538</td>\n",
       "      <td>1.003855</td>\n",
       "      <td>0.994698</td>\n",
       "      <td>1.018275</td>\n",
       "      <td>...</td>\n",
       "      <td>1.003794</td>\n",
       "      <td>1.013037</td>\n",
       "      <td>1.007314</td>\n",
       "      <td>1.017442</td>\n",
       "      <td>1.019075</td>\n",
       "      <td>0.992779</td>\n",
       "      <td>1.008377</td>\n",
       "      <td>1.002786</td>\n",
       "      <td>1.007870</td>\n",
       "      <td>1.016724</td>\n",
       "    </tr>\n",
       "    <tr>\n",
       "      <th>4</th>\n",
       "      <td>1.001919</td>\n",
       "      <td>0.992491</td>\n",
       "      <td>1.004326</td>\n",
       "      <td>0.992920</td>\n",
       "      <td>0.994150</td>\n",
       "      <td>1.014215</td>\n",
       "      <td>1.001991</td>\n",
       "      <td>1.004708</td>\n",
       "      <td>0.990568</td>\n",
       "      <td>1.016629</td>\n",
       "      <td>...</td>\n",
       "      <td>1.005581</td>\n",
       "      <td>1.005200</td>\n",
       "      <td>1.003518</td>\n",
       "      <td>1.015893</td>\n",
       "      <td>1.022559</td>\n",
       "      <td>0.996523</td>\n",
       "      <td>1.004670</td>\n",
       "      <td>1.001854</td>\n",
       "      <td>1.010151</td>\n",
       "      <td>1.027467</td>\n",
       "    </tr>\n",
       "    <tr>\n",
       "      <th>...</th>\n",
       "      <td>...</td>\n",
       "      <td>...</td>\n",
       "      <td>...</td>\n",
       "      <td>...</td>\n",
       "      <td>...</td>\n",
       "      <td>...</td>\n",
       "      <td>...</td>\n",
       "      <td>...</td>\n",
       "      <td>...</td>\n",
       "      <td>...</td>\n",
       "      <td>...</td>\n",
       "      <td>...</td>\n",
       "      <td>...</td>\n",
       "      <td>...</td>\n",
       "      <td>...</td>\n",
       "      <td>...</td>\n",
       "      <td>...</td>\n",
       "      <td>...</td>\n",
       "      <td>...</td>\n",
       "      <td>...</td>\n",
       "      <td>...</td>\n",
       "    </tr>\n",
       "    <tr>\n",
       "      <th>7556</th>\n",
       "      <td>258.337323</td>\n",
       "      <td>118.792616</td>\n",
       "      <td>240.251454</td>\n",
       "      <td>163.845662</td>\n",
       "      <td>204.276539</td>\n",
       "      <td>95.594807</td>\n",
       "      <td>63.851608</td>\n",
       "      <td>98.937022</td>\n",
       "      <td>174.061215</td>\n",
       "      <td>180.504529</td>\n",
       "      <td>...</td>\n",
       "      <td>141.205298</td>\n",
       "      <td>101.634780</td>\n",
       "      <td>359.871531</td>\n",
       "      <td>64.983638</td>\n",
       "      <td>129.836910</td>\n",
       "      <td>185.773837</td>\n",
       "      <td>74.165021</td>\n",
       "      <td>188.469121</td>\n",
       "      <td>228.381518</td>\n",
       "      <td>113.180118</td>\n",
       "    </tr>\n",
       "    <tr>\n",
       "      <th>7557</th>\n",
       "      <td>259.769419</td>\n",
       "      <td>118.644182</td>\n",
       "      <td>240.710268</td>\n",
       "      <td>163.375337</td>\n",
       "      <td>204.280886</td>\n",
       "      <td>95.982681</td>\n",
       "      <td>64.056764</td>\n",
       "      <td>99.370622</td>\n",
       "      <td>173.503291</td>\n",
       "      <td>179.416284</td>\n",
       "      <td>...</td>\n",
       "      <td>140.248613</td>\n",
       "      <td>100.960217</td>\n",
       "      <td>360.282179</td>\n",
       "      <td>64.857980</td>\n",
       "      <td>129.671127</td>\n",
       "      <td>184.554842</td>\n",
       "      <td>73.886953</td>\n",
       "      <td>187.632799</td>\n",
       "      <td>225.540366</td>\n",
       "      <td>112.696105</td>\n",
       "    </tr>\n",
       "    <tr>\n",
       "      <th>7558</th>\n",
       "      <td>259.836864</td>\n",
       "      <td>118.314898</td>\n",
       "      <td>241.616997</td>\n",
       "      <td>163.358088</td>\n",
       "      <td>203.813072</td>\n",
       "      <td>96.012455</td>\n",
       "      <td>64.314501</td>\n",
       "      <td>100.056426</td>\n",
       "      <td>174.410062</td>\n",
       "      <td>178.686157</td>\n",
       "      <td>...</td>\n",
       "      <td>139.645135</td>\n",
       "      <td>100.694333</td>\n",
       "      <td>358.938656</td>\n",
       "      <td>65.185384</td>\n",
       "      <td>129.774551</td>\n",
       "      <td>185.415378</td>\n",
       "      <td>73.724994</td>\n",
       "      <td>186.210348</td>\n",
       "      <td>224.542920</td>\n",
       "      <td>113.377227</td>\n",
       "    </tr>\n",
       "    <tr>\n",
       "      <th>7559</th>\n",
       "      <td>260.922687</td>\n",
       "      <td>118.515116</td>\n",
       "      <td>241.257700</td>\n",
       "      <td>163.312392</td>\n",
       "      <td>203.791007</td>\n",
       "      <td>96.803821</td>\n",
       "      <td>64.203383</td>\n",
       "      <td>100.025059</td>\n",
       "      <td>174.047955</td>\n",
       "      <td>178.243557</td>\n",
       "      <td>...</td>\n",
       "      <td>139.552229</td>\n",
       "      <td>101.293184</td>\n",
       "      <td>359.669063</td>\n",
       "      <td>64.616088</td>\n",
       "      <td>129.740474</td>\n",
       "      <td>183.732858</td>\n",
       "      <td>73.760877</td>\n",
       "      <td>186.822605</td>\n",
       "      <td>224.230442</td>\n",
       "      <td>113.695799</td>\n",
       "    </tr>\n",
       "    <tr>\n",
       "      <th>7560</th>\n",
       "      <td>261.115174</td>\n",
       "      <td>117.502535</td>\n",
       "      <td>238.924083</td>\n",
       "      <td>163.392737</td>\n",
       "      <td>204.990886</td>\n",
       "      <td>96.079008</td>\n",
       "      <td>63.748019</td>\n",
       "      <td>100.222157</td>\n",
       "      <td>173.633931</td>\n",
       "      <td>180.294457</td>\n",
       "      <td>...</td>\n",
       "      <td>140.057101</td>\n",
       "      <td>100.729519</td>\n",
       "      <td>360.650505</td>\n",
       "      <td>64.171880</td>\n",
       "      <td>129.868710</td>\n",
       "      <td>183.174296</td>\n",
       "      <td>73.527272</td>\n",
       "      <td>186.059053</td>\n",
       "      <td>224.549554</td>\n",
       "      <td>114.028018</td>\n",
       "    </tr>\n",
       "  </tbody>\n",
       "</table>\n",
       "<p>7561 rows × 500 columns</p>\n",
       "</div>"
      ],
      "text/plain": [
       "             0           1           2           3           4          5    \\\n",
       "0       1.000000    1.000000    1.000000    1.000000    1.000000   1.000000   \n",
       "1       1.002990    0.997368    1.000729    0.997624    0.995425   1.001724   \n",
       "2       1.000226    0.997366    1.005457    0.995851    0.997629   1.004887   \n",
       "3       1.003974    1.000040    1.000794    0.994641    0.993237   1.010383   \n",
       "4       1.001919    0.992491    1.004326    0.992920    0.994150   1.014215   \n",
       "...          ...         ...         ...         ...         ...        ...   \n",
       "7556  258.337323  118.792616  240.251454  163.845662  204.276539  95.594807   \n",
       "7557  259.769419  118.644182  240.710268  163.375337  204.280886  95.982681   \n",
       "7558  259.836864  118.314898  241.616997  163.358088  203.813072  96.012455   \n",
       "7559  260.922687  118.515116  241.257700  163.312392  203.791007  96.803821   \n",
       "7560  261.115174  117.502535  238.924083  163.392737  204.990886  96.079008   \n",
       "\n",
       "            6           7           8           9    ...         490  \\\n",
       "0      1.000000    1.000000    1.000000    1.000000  ...    1.000000   \n",
       "1      1.000470    0.995972    1.000390    1.012718  ...    0.999063   \n",
       "2      1.003516    1.005583    0.999224    1.013073  ...    1.001337   \n",
       "3      1.005538    1.003855    0.994698    1.018275  ...    1.003794   \n",
       "4      1.001991    1.004708    0.990568    1.016629  ...    1.005581   \n",
       "...         ...         ...         ...         ...  ...         ...   \n",
       "7556  63.851608   98.937022  174.061215  180.504529  ...  141.205298   \n",
       "7557  64.056764   99.370622  173.503291  179.416284  ...  140.248613   \n",
       "7558  64.314501  100.056426  174.410062  178.686157  ...  139.645135   \n",
       "7559  64.203383  100.025059  174.047955  178.243557  ...  139.552229   \n",
       "7560  63.748019  100.222157  173.633931  180.294457  ...  140.057101   \n",
       "\n",
       "             491         492        493         494         495        496  \\\n",
       "0       1.000000    1.000000   1.000000    1.000000    1.000000   1.000000   \n",
       "1       1.002946    1.000915   0.998866    1.001682    0.995479   1.003438   \n",
       "2       1.009769    1.000181   1.009752    1.011177    0.997469   1.003561   \n",
       "3       1.013037    1.007314   1.017442    1.019075    0.992779   1.008377   \n",
       "4       1.005200    1.003518   1.015893    1.022559    0.996523   1.004670   \n",
       "...          ...         ...        ...         ...         ...        ...   \n",
       "7556  101.634780  359.871531  64.983638  129.836910  185.773837  74.165021   \n",
       "7557  100.960217  360.282179  64.857980  129.671127  184.554842  73.886953   \n",
       "7558  100.694333  358.938656  65.185384  129.774551  185.415378  73.724994   \n",
       "7559  101.293184  359.669063  64.616088  129.740474  183.732858  73.760877   \n",
       "7560  100.729519  360.650505  64.171880  129.868710  183.174296  73.527272   \n",
       "\n",
       "             497         498         499  \n",
       "0       1.000000    1.000000    1.000000  \n",
       "1       1.001206    1.001985    1.006738  \n",
       "2       1.000549    1.005061    1.011932  \n",
       "3       1.002786    1.007870    1.016724  \n",
       "4       1.001854    1.010151    1.027467  \n",
       "...          ...         ...         ...  \n",
       "7556  188.469121  228.381518  113.180118  \n",
       "7557  187.632799  225.540366  112.696105  \n",
       "7558  186.210348  224.542920  113.377227  \n",
       "7559  186.822605  224.230442  113.695799  \n",
       "7560  186.059053  224.549554  114.028018  \n",
       "\n",
       "[7561 rows x 500 columns]"
      ]
     },
     "execution_count": 11,
     "metadata": {},
     "output_type": "execute_result"
    }
   ],
   "source": [
    "# Run the Monte Carlo Simulation\n",
    "for x in range(number_simulations):\n",
    "    \n",
    "    simulated_SPY = [close_SPY]\n",
    "    simulated_AGG = [close_AGG]\n",
    "    \n",
    "    for i in range(num_trading_days):\n",
    "        \n",
    "        simulated_SPY_prices = simulated_SPY[-1] * (1 + np.random.normal(daily_mean_SPY, volatility_SPY))\n",
    "        simulated_AGG_prices = simulated_AGG[-1] * (1 + np.random.normal(daily_mean_AGG, volatility_AGG))\n",
    "        \n",
    "        simulated_SPY.append(simulated_SPY_prices)\n",
    "        simulated_AGG.append(simulated_AGG_prices)\n",
    "        \n",
    "    \n",
    "    sim_price[\"SPY_sim\"] = pd.Series(simulated_SPY)\n",
    "    sim_price[\"AGG_sim\"] = pd.Series(simulated_AGG)\n",
    "    \n",
    "# monte_carlo.head()\n",
    "    \n",
    "    monte_carlo_DR = sim_price.pct_change()\n",
    "# monte_carlo_DR    \n",
    "#     # 60/40 portfolio using the SPY and AGG tickers to represent the 60% stocks (SPY) and 40% bonds (AGG).\n",
    "    weights = [0.60, 0.40]\n",
    "\n",
    "    portfolio_DR = monte_carlo_DR.dot(weights)\n",
    "# portfolio_DR    \n",
    "    monte_carlo[x] = (1 + portfolio_DR.fillna(0)).cumprod()\n",
    "monte_carlo\n",
    "\n",
    "# monte_carlo.tail()"
   ]
  },
  {
   "cell_type": "code",
   "execution_count": 28,
   "metadata": {},
   "outputs": [
    {
     "data": {
      "text/html": [
       "<div>\n",
       "<style scoped>\n",
       "    .dataframe tbody tr th:only-of-type {\n",
       "        vertical-align: middle;\n",
       "    }\n",
       "\n",
       "    .dataframe tbody tr th {\n",
       "        vertical-align: top;\n",
       "    }\n",
       "\n",
       "    .dataframe thead th {\n",
       "        text-align: right;\n",
       "    }\n",
       "</style>\n",
       "<table border=\"1\" class=\"dataframe\">\n",
       "  <thead>\n",
       "    <tr style=\"text-align: right;\">\n",
       "      <th></th>\n",
       "      <th>SPY_sim</th>\n",
       "      <th>AGG_sim</th>\n",
       "    </tr>\n",
       "  </thead>\n",
       "  <tbody>\n",
       "    <tr>\n",
       "      <th>0</th>\n",
       "      <td>331.950000</td>\n",
       "      <td>113.050000</td>\n",
       "    </tr>\n",
       "    <tr>\n",
       "      <th>1</th>\n",
       "      <td>335.959431</td>\n",
       "      <td>112.906151</td>\n",
       "    </tr>\n",
       "    <tr>\n",
       "      <th>2</th>\n",
       "      <td>338.805917</td>\n",
       "      <td>112.927367</td>\n",
       "    </tr>\n",
       "    <tr>\n",
       "      <th>3</th>\n",
       "      <td>342.290032</td>\n",
       "      <td>112.522562</td>\n",
       "    </tr>\n",
       "    <tr>\n",
       "      <th>4</th>\n",
       "      <td>348.396962</td>\n",
       "      <td>112.483412</td>\n",
       "    </tr>\n",
       "    <tr>\n",
       "      <th>...</th>\n",
       "      <td>...</td>\n",
       "      <td>...</td>\n",
       "    </tr>\n",
       "    <tr>\n",
       "      <th>6995</th>\n",
       "      <td>137784.533417</td>\n",
       "      <td>972.103026</td>\n",
       "    </tr>\n",
       "    <tr>\n",
       "      <th>6996</th>\n",
       "      <td>137375.587885</td>\n",
       "      <td>972.618758</td>\n",
       "    </tr>\n",
       "    <tr>\n",
       "      <th>6997</th>\n",
       "      <td>136196.800507</td>\n",
       "      <td>972.840778</td>\n",
       "    </tr>\n",
       "    <tr>\n",
       "      <th>6998</th>\n",
       "      <td>136194.332304</td>\n",
       "      <td>974.661620</td>\n",
       "    </tr>\n",
       "    <tr>\n",
       "      <th>6999</th>\n",
       "      <td>135024.316039</td>\n",
       "      <td>974.963397</td>\n",
       "    </tr>\n",
       "  </tbody>\n",
       "</table>\n",
       "<p>7000 rows × 2 columns</p>\n",
       "</div>"
      ],
      "text/plain": [
       "            SPY_sim     AGG_sim\n",
       "0        331.950000  113.050000\n",
       "1        335.959431  112.906151\n",
       "2        338.805917  112.927367\n",
       "3        342.290032  112.522562\n",
       "4        348.396962  112.483412\n",
       "...             ...         ...\n",
       "6995  137784.533417  972.103026\n",
       "6996  137375.587885  972.618758\n",
       "6997  136196.800507  972.840778\n",
       "6998  136194.332304  974.661620\n",
       "6999  135024.316039  974.963397\n",
       "\n",
       "[7000 rows x 2 columns]"
      ]
     },
     "execution_count": 28,
     "metadata": {},
     "output_type": "execute_result"
    }
   ],
   "source": [
    "sim_price[0:7000]"
   ]
  },
  {
   "cell_type": "code",
   "execution_count": 12,
   "metadata": {},
   "outputs": [
    {
     "data": {
      "text/plain": [
       "<matplotlib.axes._subplots.AxesSubplot at 0x20348fc0348>"
      ]
     },
     "execution_count": 12,
     "metadata": {},
     "output_type": "execute_result"
    },
    {
     "data": {
      "image/png": "[encoded data removed]",
      "text/plain": [
       "<Figure size 432x288 with 1 Axes>"
      ]
     },
     "metadata": {
      "needs_background": "light"
     },
     "output_type": "display_data"
    }
   ],
   "source": [
    "# Visualize the Simulation\n",
    "monte_carlo.plot(legend = None)"
   ]
  },
  {
   "cell_type": "code",
   "execution_count": 13,
   "metadata": {},
   "outputs": [
    {
     "data": {
      "text/plain": [
       "0    261.115174\n",
       "1    117.502535\n",
       "2    238.924083\n",
       "3    163.392737\n",
       "4    204.990886\n",
       "Name: 7560, dtype: float64"
      ]
     },
     "execution_count": 13,
     "metadata": {},
     "output_type": "execute_result"
    }
   ],
   "source": [
    "# Select the last row for the cumulative returns (cumulative returns at 30 years)\n",
    "monte_carlo_30 = monte_carlo.iloc[-1,:]\n",
    "monte_carlo_30.head()"
   ]
  },
  {
   "cell_type": "code",
   "execution_count": 14,
   "metadata": {},
   "outputs": [
    {
     "data": {
      "text/plain": [
       "0    39.394767\n",
       "1    23.654369\n",
       "2    57.308839\n",
       "3    33.411086\n",
       "4    34.444333\n",
       "Name: 5040, dtype: float64"
      ]
     },
     "execution_count": 14,
     "metadata": {},
     "output_type": "execute_result"
    }
   ],
   "source": [
    "# Select the last row for the cumulative returns (cumulative returns at 20 years)\n",
    "monte_carlo_20 = monte_carlo.iloc[(252 * 20),:]\n",
    "monte_carlo_20.head()"
   ]
  },
  {
   "cell_type": "code",
   "execution_count": 15,
   "metadata": {},
   "outputs": [
    {
     "data": {
      "text/plain": [
       "0.1     89.962696\n",
       "0.9    249.687207\n",
       "Name: 7560, dtype: float64"
      ]
     },
     "execution_count": 15,
     "metadata": {},
     "output_type": "execute_result"
    }
   ],
   "source": [
    "# Display the 90% confidence interval for the ending returns\n",
    "ci = monte_carlo_30.quantile(q=[.10,.90])\n",
    "ci\n",
    "\n",
    "# plt.figure();\n",
    "# monte_carlo_30.plot(kind = \"hist\",density = True, bins = 10)\n",
    "# plt.axvline(ci.iloc[0],color = \"r\")\n",
    "# plt.axvline(ci.iloc[1],color = \"r\")"
   ]
  },
  {
   "cell_type": "code",
   "execution_count": 16,
   "metadata": {},
   "outputs": [
    {
     "data": {
      "text/plain": [
       "<matplotlib.lines.Line2D at 0x2034bc5c548>"
      ]
     },
     "execution_count": 16,
     "metadata": {},
     "output_type": "execute_result"
    },
    {
     "data": {
      "image/png": "[encoded data removed]",
      "text/plain": [
       "<Figure size 432x288 with 1 Axes>"
      ]
     },
     "metadata": {
      "needs_background": "light"
     },
     "output_type": "display_data"
    }
   ],
   "source": [
    "# Visualize the distribution of the ending returns\n",
    "plt.figure();\n",
    "# monte_carlo_30.plot(kind = \"hist\", density = True, bins = 10)\n",
    "monte_carlo_30.plot(kind = \"hist\",bins = 10)\n",
    "plt.axvline(ci.iloc[0],color = \"r\")\n",
    "plt.axvline(ci.iloc[1],color = \"r\")"
   ]
  },
  {
   "cell_type": "markdown",
   "metadata": {},
   "source": [
    "# Retirement Analysis\n",
    "\n",
    "In this section, you will use the monte carlo model to answer the following retirement planning questions:\n",
    "\n",
    "1. What are the expected cumulative returns at 30 years for the 10th, 50th, and 90th percentiles?\n",
    "2. Given an initial investment of `$20,000`, what is the expected portfolio return in dollars at the 10th, 50th, and 90th percentiles?\n",
    "3. Given the current projected annual income from the Plaid analysis, will a 4% withdraw rate from the retirement portfolio meet or exceed that value at the 10th percentile?\n",
    "4. How would a 50% increase in the initial investment amount affect the 4% retirement withdrawal?"
   ]
  },
  {
   "cell_type": "markdown",
   "metadata": {},
   "source": [
    "### What are the expected cumulative returns at 30 years for the 10th, 50th, and 90th percentiles?"
   ]
  },
  {
   "cell_type": "code",
   "execution_count": 19,
   "metadata": {},
   "outputs": [
    {
     "data": {
      "text/plain": [
       "0.1     89.962696\n",
       "0.5    149.224083\n",
       "0.9    249.687207\n",
       "Name: 7560, dtype: float64"
      ]
     },
     "execution_count": 19,
     "metadata": {},
     "output_type": "execute_result"
    }
   ],
   "source": [
    "confidence_interval = monte_carlo_30.quantile(q=[0.1,.5,.9])\n",
    "confidence_interval"
   ]
  },
  {
   "cell_type": "markdown",
   "metadata": {},
   "source": [
    "### Given an initial investment of `$20,000`, what is the expected portfolio return in dollars at the 10th, 50th, and 90th percentiles?"
   ]
  },
  {
   "cell_type": "code",
   "execution_count": 29,
   "metadata": {},
   "outputs": [
    {
     "name": "stdout",
     "output_type": "stream",
     "text": [
      "10th percentile = 899626.96\n",
      "50th percentile = 1492240.83\n",
      "90th percentile = 2496872.07\n"
     ]
    }
   ],
   "source": [
    "initial_investment = 10000\n",
    "\n",
    "investment_10 = initial_investment * confidence_interval.iloc[0]\n",
    "investment_50 = initial_investment * confidence_interval.iloc[1]\n",
    "investment_90 = initial_investment * confidence_interval.iloc[2]\n",
    "                                                    \n",
    "print(f\"10th percentile = {round(investment_10,2)}\")\n",
    "print(f\"50th percentile = {round(investment_50,2)}\")\n",
    "print(f\"90th percentile = {round(investment_90,2)}\")"
   ]
  },
  {
   "cell_type": "markdown",
   "metadata": {},
   "source": [
    "### Given the current projected annual income from the Plaid analysis, will a 4% withdraw rate from the retirement portfolio meet or exceed that value at the 10th percentile?\n",
    "\n",
    "Note: This is effectively saying that 90% of the expected returns will be greater than the return at the 10th percentile, so this can help measure the uncertainty about having enough funds at retirement"
   ]
  },
  {
   "cell_type": "code",
   "execution_count": null,
   "metadata": {},
   "outputs": [],
   "source": [
    "investment_10"
   ]
  },
  {
   "cell_type": "markdown",
   "metadata": {},
   "source": [
    "### How would a 50% increase in the initial investment amount affect the 4% retirement withdrawal?"
   ]
  },
  {
   "cell_type": "code",
   "execution_count": 30,
   "metadata": {},
   "outputs": [
    {
     "name": "stdout",
     "output_type": "stream",
     "text": [
      "10th percentile = 1349440.45\n",
      "50th percentile = 2238361.24\n",
      "90th percentile = 3745308.11\n"
     ]
    }
   ],
   "source": [
    "initial_investment = 10000 * 1.5\n",
    "\n",
    "investment_10 = initial_investment * confidence_interval.iloc[0]\n",
    "investment_50 = initial_investment * confidence_interval.iloc[1]\n",
    "investment_90 = initial_investment * confidence_interval.iloc[2]\n",
    "                                                    \n",
    "print(f\"10th percentile = {round(investment_10,2)}\")\n",
    "print(f\"50th percentile = {round(investment_50,2)}\")\n",
    "print(f\"90th percentile = {round(investment_90,2)}\")"
   ]
  },
  {
   "cell_type": "markdown",
   "metadata": {},
   "source": [
    "### Optional Challenge\n",
    "\n",
    "In this section, you will calculate and plot the cumulative returns for the median and 90% confidence intervals. This plot shows the expected cumulative returns for any given day between the first day and the last day of investment. "
   ]
  },
  {
   "cell_type": "code",
   "execution_count": null,
   "metadata": {},
   "outputs": [],
   "source": [
    "# YOUR CODE HERE"
   ]
  }
 ],
 "metadata": {
  "kernel_info": {
   "name": "dev"
  },
  "kernelspec": {
   "display_name": "Python 3",
   "language": "python",
   "name": "python3"
  },
  "language_info": {
   "codemirror_mode": {
    "name": "ipython",
    "version": 3
   },
   "file_extension": ".py",
   "mimetype": "text/x-python",
   "name": "python",
   "nbconvert_exporter": "python",
   "pygments_lexer": "ipython3",
   "version": "3.7.6"
  },
  "nteract": {
   "version": "0.12.3"
  }
 },
 "nbformat": 4,
 "nbformat_minor": 4
}
