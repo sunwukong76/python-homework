{
 "cells": [
  {
   "cell_type": "code",
   "execution_count": 1,
   "metadata": {},
   "outputs": [],
   "source": [
    "import numpy as np\n",
    "import pandas as pd\n",
    "from pathlib import Path\n",
    "from datetime import datetime, timedelta\n",
    "import matplotlib.pyplot as plt\n",
    "%matplotlib inline"
   ]
  },
  {
   "cell_type": "code",
   "execution_count": 2,
   "metadata": {},
   "outputs": [],
   "source": [
    "np.random.seed(42)"
   ]
  },
  {
   "cell_type": "markdown",
   "metadata": {},
   "source": [
    "# Portfolio Planner\n",
    "\n",
    "In this activity, you will use the iexfinance api to grab historical data for a 60/40 portfolio using `SPY` to represent the stock portion and `AGG` to represent the bonds."
   ]
  },
  {
   "cell_type": "code",
   "execution_count": 3,
   "metadata": {},
   "outputs": [],
   "source": [
    "from iexfinance.stocks import get_historical_data\n",
    "import iexfinance as iex\n",
    "# dir(iex)\n",
    "from iexfinance.refdata import get_symbols"
   ]
  },
  {
   "cell_type": "markdown",
   "metadata": {},
   "source": [
    "# Data Collection\n",
    "\n",
    "In this step, you will need to use the IEX api to fetch closing prices for the `SPY` and `AGG` tickers. Save the results as a pandas DataFrame"
   ]
  },
  {
   "cell_type": "code",
   "execution_count": 4,
   "metadata": {},
   "outputs": [
    {
     "data": {
      "text/html": [
       "<div>\n",
       "<style scoped>\n",
       "    .dataframe tbody tr th:only-of-type {\n",
       "        vertical-align: middle;\n",
       "    }\n",
       "\n",
       "    .dataframe tbody tr th {\n",
       "        vertical-align: top;\n",
       "    }\n",
       "\n",
       "    .dataframe thead th {\n",
       "        text-align: right;\n",
       "    }\n",
       "</style>\n",
       "<table border=\"1\" class=\"dataframe\">\n",
       "  <thead>\n",
       "    <tr style=\"text-align: right;\">\n",
       "      <th></th>\n",
       "      <th>symbol</th>\n",
       "      <th>exchange</th>\n",
       "      <th>name</th>\n",
       "      <th>date</th>\n",
       "      <th>type</th>\n",
       "      <th>iexId</th>\n",
       "      <th>region</th>\n",
       "      <th>currency</th>\n",
       "      <th>isEnabled</th>\n",
       "    </tr>\n",
       "  </thead>\n",
       "  <tbody>\n",
       "    <tr>\n",
       "      <th>0</th>\n",
       "      <td>A</td>\n",
       "      <td>NYS</td>\n",
       "      <td>Agilent Technologies Inc.</td>\n",
       "      <td>2020-01-21</td>\n",
       "      <td>cs</td>\n",
       "      <td>IEX_46574843354B2D52</td>\n",
       "      <td>US</td>\n",
       "      <td>USD</td>\n",
       "      <td>True</td>\n",
       "    </tr>\n",
       "    <tr>\n",
       "      <th>1</th>\n",
       "      <td>AA</td>\n",
       "      <td>NYS</td>\n",
       "      <td>Alcoa Corp.</td>\n",
       "      <td>2020-01-21</td>\n",
       "      <td>cs</td>\n",
       "      <td>IEX_4238333734532D52</td>\n",
       "      <td>US</td>\n",
       "      <td>USD</td>\n",
       "      <td>True</td>\n",
       "    </tr>\n",
       "    <tr>\n",
       "      <th>2</th>\n",
       "      <td>AAAU</td>\n",
       "      <td>PSE</td>\n",
       "      <td>Perth Mint Physical Gold ETF</td>\n",
       "      <td>2020-01-21</td>\n",
       "      <td>et</td>\n",
       "      <td>IEX_474B433136332D52</td>\n",
       "      <td>US</td>\n",
       "      <td>USD</td>\n",
       "      <td>True</td>\n",
       "    </tr>\n",
       "    <tr>\n",
       "      <th>3</th>\n",
       "      <td>AACG</td>\n",
       "      <td>NAS</td>\n",
       "      <td>ATA Creativity Global Sponsored ADR</td>\n",
       "      <td>2020-01-21</td>\n",
       "      <td>ad</td>\n",
       "      <td>IEX_44595A4C53392D52</td>\n",
       "      <td>US</td>\n",
       "      <td>USD</td>\n",
       "      <td>True</td>\n",
       "    </tr>\n",
       "    <tr>\n",
       "      <th>4</th>\n",
       "      <td>AADR</td>\n",
       "      <td>PSE</td>\n",
       "      <td>AdvisorShares Dorsey Wright ADR ETF</td>\n",
       "      <td>2020-01-21</td>\n",
       "      <td>et</td>\n",
       "      <td>IEX_5253355435362D52</td>\n",
       "      <td>US</td>\n",
       "      <td>USD</td>\n",
       "      <td>True</td>\n",
       "    </tr>\n",
       "  </tbody>\n",
       "</table>\n",
       "</div>"
      ],
      "text/plain": [
       "  symbol exchange                                 name        date type  \\\n",
       "0      A      NYS            Agilent Technologies Inc.  2020-01-21   cs   \n",
       "1     AA      NYS                          Alcoa Corp.  2020-01-21   cs   \n",
       "2   AAAU      PSE         Perth Mint Physical Gold ETF  2020-01-21   et   \n",
       "3   AACG      NAS  ATA Creativity Global Sponsored ADR  2020-01-21   ad   \n",
       "4   AADR      PSE  AdvisorShares Dorsey Wright ADR ETF  2020-01-21   et   \n",
       "\n",
       "                  iexId region currency  isEnabled  \n",
       "0  IEX_46574843354B2D52     US      USD       True  \n",
       "1  IEX_4238333734532D52     US      USD       True  \n",
       "2  IEX_474B433136332D52     US      USD       True  \n",
       "3  IEX_44595A4C53392D52     US      USD       True  \n",
       "4  IEX_5253355435362D52     US      USD       True  "
      ]
     },
     "execution_count": 4,
     "metadata": {},
     "output_type": "execute_result"
    }
   ],
   "source": [
    "tickers = pd.DataFrame(get_symbols())\n",
    "tickers.head()"
   ]
  },
  {
   "cell_type": "code",
   "execution_count": 5,
   "metadata": {},
   "outputs": [],
   "source": [
    "# COMMENTED OUT DUE TO OVERUSE OF DATA IN IEXFINANCE\n",
    "# list_of_tickers = [\"SPY\", \"AGG\"]\n",
    "# end_date = datetime.now()\n",
    "# start_date = end_date + timedelta(-365)\n",
    "\n",
    "# ticker_data = get_historical_data(list_of_tickers,start_date,end_date, output_format = \"pandas\")\n",
    "# ticker_data.head()\n",
    "\n",
    "# # ticker_data = ticker_data.drop(columns = [\"open\",\"high\",\"low\"],inplace = True)\n",
    "# # ticker_data.head()"
   ]
  },
  {
   "cell_type": "code",
   "execution_count": 6,
   "metadata": {},
   "outputs": [
    {
     "data": {
      "text/html": [
       "<div>\n",
       "<style scoped>\n",
       "    .dataframe tbody tr th:only-of-type {\n",
       "        vertical-align: middle;\n",
       "    }\n",
       "\n",
       "    .dataframe tbody tr th {\n",
       "        vertical-align: top;\n",
       "    }\n",
       "\n",
       "    .dataframe thead th {\n",
       "        text-align: right;\n",
       "    }\n",
       "</style>\n",
       "<table border=\"1\" class=\"dataframe\">\n",
       "  <thead>\n",
       "    <tr style=\"text-align: right;\">\n",
       "      <th></th>\n",
       "      <th>SPY</th>\n",
       "      <th>AGG</th>\n",
       "    </tr>\n",
       "    <tr>\n",
       "      <th>date</th>\n",
       "      <th></th>\n",
       "      <th></th>\n",
       "    </tr>\n",
       "  </thead>\n",
       "  <tbody>\n",
       "    <tr>\n",
       "      <th>2020-01-13</th>\n",
       "      <td>327.95</td>\n",
       "      <td>112.91</td>\n",
       "    </tr>\n",
       "    <tr>\n",
       "      <th>2020-01-14</th>\n",
       "      <td>327.45</td>\n",
       "      <td>113.01</td>\n",
       "    </tr>\n",
       "    <tr>\n",
       "      <th>2020-01-15</th>\n",
       "      <td>328.19</td>\n",
       "      <td>113.18</td>\n",
       "    </tr>\n",
       "    <tr>\n",
       "      <th>2020-01-16</th>\n",
       "      <td>330.92</td>\n",
       "      <td>113.18</td>\n",
       "    </tr>\n",
       "    <tr>\n",
       "      <th>2020-01-17</th>\n",
       "      <td>331.95</td>\n",
       "      <td>113.05</td>\n",
       "    </tr>\n",
       "  </tbody>\n",
       "</table>\n",
       "</div>"
      ],
      "text/plain": [
       "               SPY     AGG\n",
       "date                      \n",
       "2020-01-13  327.95  112.91\n",
       "2020-01-14  327.45  113.01\n",
       "2020-01-15  328.19  113.18\n",
       "2020-01-16  330.92  113.18\n",
       "2020-01-17  331.95  113.05"
      ]
     },
     "execution_count": 6,
     "metadata": {},
     "output_type": "execute_result"
    }
   ],
   "source": [
    "IEX_path = Path(\"../Resources/IEXCLOUD_data.csv\")\n",
    "ticker_data = pd.read_csv(IEX_path)\n",
    "ticker_data[\"date\"] =  pd.to_datetime(ticker_data.loc[:,\"date\"],infer_datetime_format = True)\n",
    "ticker_data.set_index(ticker_data[\"date\"],inplace = True)\n",
    "ticker_data.drop(columns = [\"date\"], inplace = True)\n",
    "ticker_data.tail()\n",
    "# ticker_data.info()"
   ]
  },
  {
   "cell_type": "markdown",
   "metadata": {},
   "source": [
    "# Monte Carlo Simulation\n",
    "\n",
    "In this step, you will run Monte Carlo Simulations for your portfolio to model portfolio performance at different retirement ages. \n",
    "\n",
    "Complete the following steps:\n",
    "1. Calculate the daily returns for the SPY and AGG closing prices.\n",
    "2. Calculate volatility for both the SPY and AGG closing prices.\n",
    "3. Find the last day's closing price for both stocks and save those as variables.\n",
    "4. Run a Monte Carlo Simulation of at least 500 iterations and generate at least 30 years of closing prices\n",
    "\n",
    "### HINTS:\n",
    "There are 252 trading days per year, so the number of records to generate for each Monte Carlo run will be 252 days * 30 years"
   ]
  },
  {
   "cell_type": "code",
   "execution_count": 7,
   "metadata": {},
   "outputs": [],
   "source": [
    "# Calculate the daily roi for the stocks\n",
    "# daily_returns = ticker_data.pct_change()[\"close\"]\n",
    "# daily_mean_SPY = daily_returns.mean()[\"SPY\"][\"close\"]\n",
    "# daily_mean_AGG = daily_returns.mean()[\"AGG\"][\"close\"]\n",
    "\n",
    "daily_returns = ticker_data.pct_change()\n",
    "daily_mean_SPY = daily_returns.mean()[\"SPY\"]\n",
    "daily_mean_AGG = daily_returns.mean()[\"AGG\"]"
   ]
  },
  {
   "cell_type": "code",
   "execution_count": 8,
   "metadata": {},
   "outputs": [],
   "source": [
    "# Calculate volatility\n",
    "volatility_SPY = ticker_data.std()[\"SPY\"]\n",
    "volatility_AGG = ticker_data.std()[\"AGG\"]"
   ]
  },
  {
   "cell_type": "code",
   "execution_count": 9,
   "metadata": {},
   "outputs": [],
   "source": [
    "# Save the last day's closing price\n",
    "close_SPY = ticker_data[\"SPY\"][-1]\n",
    "close_AGG = ticker_data[\"AGG\"][-1]\n",
    "# close_AGG"
   ]
  },
  {
   "cell_type": "code",
   "execution_count": 10,
   "metadata": {},
   "outputs": [],
   "source": [
    "# Setup the Monte Carlo Parameters\n",
    "number_simulations = 500\n",
    "num_trading_days = 252\n",
    "number_records = 252 * 30\n",
    "sim_price = pd.DataFrame()\n",
    "monte_carlo = pd.DataFrame()"
   ]
  },
  {
   "cell_type": "code",
   "execution_count": 11,
   "metadata": {},
   "outputs": [
    {
     "data": {
      "text/html": [
       "<div>\n",
       "<style scoped>\n",
       "    .dataframe tbody tr th:only-of-type {\n",
       "        vertical-align: middle;\n",
       "    }\n",
       "\n",
       "    .dataframe tbody tr th {\n",
       "        vertical-align: top;\n",
       "    }\n",
       "\n",
       "    .dataframe thead th {\n",
       "        text-align: right;\n",
       "    }\n",
       "</style>\n",
       "<table border=\"1\" class=\"dataframe\">\n",
       "  <thead>\n",
       "    <tr style=\"text-align: right;\">\n",
       "      <th></th>\n",
       "      <th>0</th>\n",
       "      <th>1</th>\n",
       "      <th>2</th>\n",
       "      <th>3</th>\n",
       "      <th>4</th>\n",
       "      <th>5</th>\n",
       "      <th>6</th>\n",
       "      <th>7</th>\n",
       "      <th>8</th>\n",
       "      <th>9</th>\n",
       "      <th>...</th>\n",
       "      <th>490</th>\n",
       "      <th>491</th>\n",
       "      <th>492</th>\n",
       "      <th>493</th>\n",
       "      <th>494</th>\n",
       "      <th>495</th>\n",
       "      <th>496</th>\n",
       "      <th>497</th>\n",
       "      <th>498</th>\n",
       "      <th>499</th>\n",
       "    </tr>\n",
       "  </thead>\n",
       "  <tbody>\n",
       "    <tr>\n",
       "      <th>0</th>\n",
       "      <td>1.000000</td>\n",
       "      <td>1.000000</td>\n",
       "      <td>1.000000</td>\n",
       "      <td>1.000000</td>\n",
       "      <td>1.000000</td>\n",
       "      <td>1.000000</td>\n",
       "      <td>1.000000</td>\n",
       "      <td>1.000000</td>\n",
       "      <td>1.000000</td>\n",
       "      <td>1.000000</td>\n",
       "      <td>...</td>\n",
       "      <td>1.000000</td>\n",
       "      <td>1.000000</td>\n",
       "      <td>1.000000</td>\n",
       "      <td>1.000000</td>\n",
       "      <td>1.000000</td>\n",
       "      <td>1.000000</td>\n",
       "      <td>1.000000</td>\n",
       "      <td>1.000000</td>\n",
       "      <td>1.000000</td>\n",
       "      <td>1.000000</td>\n",
       "    </tr>\n",
       "    <tr>\n",
       "      <th>1</th>\n",
       "      <td>5.257274</td>\n",
       "      <td>-5.187505</td>\n",
       "      <td>9.772029</td>\n",
       "      <td>-7.035848</td>\n",
       "      <td>-3.170262</td>\n",
       "      <td>5.283059</td>\n",
       "      <td>-15.855252</td>\n",
       "      <td>-16.126884</td>\n",
       "      <td>-11.760077</td>\n",
       "      <td>2.634785</td>\n",
       "      <td>...</td>\n",
       "      <td>11.115404</td>\n",
       "      <td>7.502145</td>\n",
       "      <td>3.810528</td>\n",
       "      <td>-3.411789</td>\n",
       "      <td>4.067459</td>\n",
       "      <td>-6.967109</td>\n",
       "      <td>2.869967</td>\n",
       "      <td>-21.338543</td>\n",
       "      <td>4.093804</td>\n",
       "      <td>10.168034</td>\n",
       "    </tr>\n",
       "    <tr>\n",
       "      <th>2</th>\n",
       "      <td>42.648406</td>\n",
       "      <td>26.035599</td>\n",
       "      <td>125.153616</td>\n",
       "      <td>-1.121904</td>\n",
       "      <td>-17.348137</td>\n",
       "      <td>20.900832</td>\n",
       "      <td>-49.037754</td>\n",
       "      <td>-256.702982</td>\n",
       "      <td>61.916121</td>\n",
       "      <td>-0.601857</td>\n",
       "      <td>...</td>\n",
       "      <td>-101.801277</td>\n",
       "      <td>-36.548594</td>\n",
       "      <td>-1.939742</td>\n",
       "      <td>-44.205869</td>\n",
       "      <td>37.213429</td>\n",
       "      <td>-0.651758</td>\n",
       "      <td>13.248869</td>\n",
       "      <td>92.850645</td>\n",
       "      <td>-2.374665</td>\n",
       "      <td>250.353333</td>\n",
       "    </tr>\n",
       "    <tr>\n",
       "      <th>3</th>\n",
       "      <td>-54.600675</td>\n",
       "      <td>17.371857</td>\n",
       "      <td>2338.174580</td>\n",
       "      <td>-16.755108</td>\n",
       "      <td>-30.945512</td>\n",
       "      <td>200.181255</td>\n",
       "      <td>169.995483</td>\n",
       "      <td>268.960959</td>\n",
       "      <td>331.840311</td>\n",
       "      <td>3.849334</td>\n",
       "      <td>...</td>\n",
       "      <td>-22.823158</td>\n",
       "      <td>-209.848308</td>\n",
       "      <td>9.575407</td>\n",
       "      <td>-451.132487</td>\n",
       "      <td>18.048685</td>\n",
       "      <td>-7.001917</td>\n",
       "      <td>-67.497387</td>\n",
       "      <td>-775.598107</td>\n",
       "      <td>-20.469973</td>\n",
       "      <td>-2732.901628</td>\n",
       "    </tr>\n",
       "    <tr>\n",
       "      <th>4</th>\n",
       "      <td>-853.959243</td>\n",
       "      <td>58.044837</td>\n",
       "      <td>38583.034150</td>\n",
       "      <td>106.194007</td>\n",
       "      <td>-365.416472</td>\n",
       "      <td>1053.770888</td>\n",
       "      <td>-3665.320077</td>\n",
       "      <td>5636.664179</td>\n",
       "      <td>57.232012</td>\n",
       "      <td>-60.117278</td>\n",
       "      <td>...</td>\n",
       "      <td>141.460933</td>\n",
       "      <td>-412.248902</td>\n",
       "      <td>-204.679101</td>\n",
       "      <td>-1422.775331</td>\n",
       "      <td>-112.759548</td>\n",
       "      <td>-13.974544</td>\n",
       "      <td>-684.166378</td>\n",
       "      <td>8895.878524</td>\n",
       "      <td>-612.630710</td>\n",
       "      <td>12411.353336</td>\n",
       "    </tr>\n",
       "  </tbody>\n",
       "</table>\n",
       "<p>5 rows × 500 columns</p>\n",
       "</div>"
      ],
      "text/plain": [
       "          0          1             2           3           4            5    \\\n",
       "0    1.000000   1.000000      1.000000    1.000000    1.000000     1.000000   \n",
       "1    5.257274  -5.187505      9.772029   -7.035848   -3.170262     5.283059   \n",
       "2   42.648406  26.035599    125.153616   -1.121904  -17.348137    20.900832   \n",
       "3  -54.600675  17.371857   2338.174580  -16.755108  -30.945512   200.181255   \n",
       "4 -853.959243  58.044837  38583.034150  106.194007 -365.416472  1053.770888   \n",
       "\n",
       "           6            7           8          9    ...         490  \\\n",
       "0     1.000000     1.000000    1.000000   1.000000  ...    1.000000   \n",
       "1   -15.855252   -16.126884  -11.760077   2.634785  ...   11.115404   \n",
       "2   -49.037754  -256.702982   61.916121  -0.601857  ... -101.801277   \n",
       "3   169.995483   268.960959  331.840311   3.849334  ...  -22.823158   \n",
       "4 -3665.320077  5636.664179   57.232012 -60.117278  ...  141.460933   \n",
       "\n",
       "          491         492          493         494        495         496  \\\n",
       "0    1.000000    1.000000     1.000000    1.000000   1.000000    1.000000   \n",
       "1    7.502145    3.810528    -3.411789    4.067459  -6.967109    2.869967   \n",
       "2  -36.548594   -1.939742   -44.205869   37.213429  -0.651758   13.248869   \n",
       "3 -209.848308    9.575407  -451.132487   18.048685  -7.001917  -67.497387   \n",
       "4 -412.248902 -204.679101 -1422.775331 -112.759548 -13.974544 -684.166378   \n",
       "\n",
       "           497         498           499  \n",
       "0     1.000000    1.000000      1.000000  \n",
       "1   -21.338543    4.093804     10.168034  \n",
       "2    92.850645   -2.374665    250.353333  \n",
       "3  -775.598107  -20.469973  -2732.901628  \n",
       "4  8895.878524 -612.630710  12411.353336  \n",
       "\n",
       "[5 rows x 500 columns]"
      ]
     },
     "execution_count": 11,
     "metadata": {},
     "output_type": "execute_result"
    }
   ],
   "source": [
    "# Run the Monte Carlo Simulation\n",
    "for x in range(number_simulations):\n",
    "    \n",
    "    simulated_SPY = [close_SPY]\n",
    "    simulated_AGG = [close_AGG]\n",
    "    \n",
    "    for i in range(num_trading_days):\n",
    "        \n",
    "        simulated_SPY_prices = simulated_SPY[-1] * (1 + np.random.normal(daily_mean_SPY, volatility_SPY))\n",
    "        simulated_AGG_prices = simulated_AGG[-1] * (1 + np.random.normal(daily_mean_AGG, volatility_AGG))\n",
    "        \n",
    "        simulated_SPY.append(simulated_SPY_prices)\n",
    "        simulated_AGG.append(simulated_AGG_prices)\n",
    "        \n",
    "    \n",
    "    sim_price[\"SPY_sim\"] = pd.Series(simulated_SPY)\n",
    "    sim_price[\"AGG_sim\"] = pd.Series(simulated_AGG)\n",
    "    \n",
    "# monte_carlo.head()\n",
    "    \n",
    "    monte_carlo_DR = sim_price.pct_change()\n",
    "    \n",
    "#     # 60/40 portfolio using the SPY and AGG tickers to represent the 60% stocks (SPY) and 40% bonds (AGG).\n",
    "    weights = [0.60, 0.40]\n",
    "\n",
    "    portfolio_DR = monte_carlo_DR.dot(weights)\n",
    "    \n",
    "    monte_carlo[x] = (1 + portfolio_DR.fillna(0)).cumprod()\n",
    "#     monte_carlo\n",
    "\n",
    "monte_carlo.head()"
   ]
  },
  {
   "cell_type": "code",
   "execution_count": null,
   "metadata": {},
   "outputs": [],
   "source": [
    "# Visualize the Simulation\n",
    "# YOUR CODE HERE"
   ]
  },
  {
   "cell_type": "code",
   "execution_count": 14,
   "metadata": {},
   "outputs": [],
   "source": [
    "# Select the last row for the cumulative returns (cumulative returns at 30 years)\n",
    "# YOUR CODE HERE"
   ]
  },
  {
   "cell_type": "code",
   "execution_count": null,
   "metadata": {},
   "outputs": [],
   "source": [
    "# Select the last row for the cumulative returns (cumulative returns at 20 years)\n",
    "# YOUR CODE HERE"
   ]
  },
  {
   "cell_type": "code",
   "execution_count": null,
   "metadata": {},
   "outputs": [],
   "source": [
    "# Display the 90% confidence interval for the ending returns\n",
    "# YOUR CODE HERE"
   ]
  },
  {
   "cell_type": "code",
   "execution_count": null,
   "metadata": {},
   "outputs": [],
   "source": [
    "# Visualize the distribution of the ending returns\n",
    "# YOUR CODE HERE"
   ]
  },
  {
   "cell_type": "markdown",
   "metadata": {},
   "source": [
    "---"
   ]
  },
  {
   "cell_type": "markdown",
   "metadata": {},
   "source": [
    "# Retirement Analysis\n",
    "\n",
    "In this section, you will use the monte carlo model to answer the following retirement planning questions:\n",
    "\n",
    "1. What are the expected cumulative returns at 30 years for the 10th, 50th, and 90th percentiles?\n",
    "2. Given an initial investment of `$20,000`, what is the expected portfolio return in dollars at the 10th, 50th, and 90th percentiles?\n",
    "3. Given the current projected annual income from the Plaid analysis, will a 4% withdraw rate from the retirement portfolio meet or exceed that value at the 10th percentile?\n",
    "4. How would a 50% increase in the initial investment amount affect the 4% retirement withdrawal?"
   ]
  },
  {
   "cell_type": "markdown",
   "metadata": {},
   "source": [
    "### What are the expected cumulative returns at 30 years for the 10th, 50th, and 90th percentiles?"
   ]
  },
  {
   "cell_type": "code",
   "execution_count": null,
   "metadata": {},
   "outputs": [],
   "source": [
    "# YOUR CODE HERE"
   ]
  },
  {
   "cell_type": "markdown",
   "metadata": {},
   "source": [
    "### Given an initial investment of `$20,000`, what is the expected portfolio return in dollars at the 10th, 50th, and 90th percentiles?"
   ]
  },
  {
   "cell_type": "code",
   "execution_count": null,
   "metadata": {},
   "outputs": [],
   "source": [
    "# YOUR CODE HERE"
   ]
  },
  {
   "cell_type": "markdown",
   "metadata": {},
   "source": [
    "### Given the current projected annual income from the Plaid analysis, will a 4% withdraw rate from the retirement portfolio meet or exceed that value at the 10th percentile?\n",
    "\n",
    "Note: This is effectively saying that 90% of the expected returns will be greater than the return at the 10th percentile, so this can help measure the uncertainty about having enough funds at retirement"
   ]
  },
  {
   "cell_type": "code",
   "execution_count": null,
   "metadata": {},
   "outputs": [],
   "source": [
    "# YOUR CODE HERE"
   ]
  },
  {
   "cell_type": "markdown",
   "metadata": {},
   "source": [
    "### How would a 50% increase in the initial investment amount affect the 4% retirement withdrawal?"
   ]
  },
  {
   "cell_type": "code",
   "execution_count": null,
   "metadata": {},
   "outputs": [],
   "source": [
    "# YOUR CODE HERE"
   ]
  },
  {
   "cell_type": "markdown",
   "metadata": {},
   "source": [
    "### Optional Challenge\n",
    "\n",
    "In this section, you will calculate and plot the cumulative returns for the median and 90% confidence intervals. This plot shows the expected cumulative returns for any given day between the first day and the last day of investment. "
   ]
  },
  {
   "cell_type": "code",
   "execution_count": null,
   "metadata": {},
   "outputs": [],
   "source": [
    "# YOUR CODE HERE"
   ]
  }
 ],
 "metadata": {
  "kernel_info": {
   "name": "dev"
  },
  "kernelspec": {
   "display_name": "Python 3",
   "language": "python",
   "name": "python3"
  },
  "language_info": {
   "codemirror_mode": {
    "name": "ipython",
    "version": 3
   },
   "file_extension": ".py",
   "mimetype": "text/x-python",
   "name": "python",
   "nbconvert_exporter": "python",
   "pygments_lexer": "ipython3",
   "version": "3.7.6"
  },
  "nteract": {
   "version": "0.12.3"
  }
 },
 "nbformat": 4,
 "nbformat_minor": 4
}
