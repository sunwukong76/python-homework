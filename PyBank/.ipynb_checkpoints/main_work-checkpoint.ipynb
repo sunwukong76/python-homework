{
 "cells": [
  {
   "cell_type": "code",
   "execution_count": null,
   "metadata": {},
   "outputs": [],
   "source": [
    "#Your task is to create a Python script that analyzes the records to calculate each of the following:\n",
    "#The total number of months included in the dataset.\n",
    "#The net total amount of Profit/Losses over the entire period.\n",
    "#The average of the changes in Profit/Losses over the entire period.\n",
    "#The greatest increase in profits (date and amount) over the entire period.\n",
    "#The greatest decrease in losses (date and amount) over the entire period."
   ]
  },
  {
   "cell_type": "code",
   "execution_count": 9,
   "metadata": {},
   "outputs": [
    {
     "name": "stdout",
     "output_type": "stream",
     "text": [
      "{'Date': 'Profit/Losses', 'Jan-2010': '867884', 'Feb-2010': '984655', 'Mar-2010': '322013', 'Apr-2010': '-69417', 'May-2010': '310503', 'Jun-2010': '522857', 'Jul-2010': '1033096', 'Aug-2010': '604885', 'Sep-2010': '-216386', 'Oct-2010': '477532', 'Nov-2010': '893810', 'Dec-2010': '-80353', 'Jan-2011': '779806', 'Feb-2011': '-335203', 'Mar-2011': '697845', 'Apr-2011': '793163', 'May-2011': '485070', 'Jun-2011': '584122', 'Jul-2011': '62729', 'Aug-2011': '668179', 'Sep-2011': '899906', 'Oct-2011': '834719', 'Nov-2011': '132003', 'Dec-2011': '309978', 'Jan-2012': '-755566', 'Feb-2012': '1170593', 'Mar-2012': '252788', 'Apr-2012': '1151518', 'May-2012': '817256', 'Jun-2012': '570757', 'Jul-2012': '506702', 'Aug-2012': '-1022534', 'Sep-2012': '475062', 'Oct-2012': '779976', 'Nov-2012': '144175', 'Dec-2012': '542494', 'Jan-2013': '359333', 'Feb-2013': '321469', 'Mar-2013': '67780', 'Apr-2013': '471435', 'May-2013': '565603', 'Jun-2013': '872480', 'Jul-2013': '789480', 'Aug-2013': '999942', 'Sep-2013': '-1196225', 'Oct-2013': '268997', 'Nov-2013': '-687986', 'Dec-2013': '1150461', 'Jan-2014': '682458', 'Feb-2014': '617856', 'Mar-2014': '824098', 'Apr-2014': '581943', 'May-2014': '132864', 'Jun-2014': '448062', 'Jul-2014': '689161', 'Aug-2014': '800701', 'Sep-2014': '1166643', 'Oct-2014': '947333', 'Nov-2014': '578668', 'Dec-2014': '988505', 'Jan-2015': '1139715', 'Feb-2015': '1029471', 'Mar-2015': '687533', 'Apr-2015': '-524626', 'May-2015': '158620', 'Jun-2015': '87795', 'Jul-2015': '423389', 'Aug-2015': '840723', 'Sep-2015': '568529', 'Oct-2015': '332067', 'Nov-2015': '989499', 'Dec-2015': '778237', 'Jan-2016': '650000', 'Feb-2016': '-1100387', 'Mar-2016': '-174946', 'Apr-2016': '757143', 'May-2016': '445709', 'Jun-2016': '712961', 'Jul-2016': '-1163797', 'Aug-2016': '569899', 'Sep-2016': '768450', 'Oct-2016': '102685', 'Nov-2016': '795914', 'Dec-2016': '60988', 'Jan-2017': '138230', 'Feb-2017': '671099'}\n"
     ]
    }
   ],
   "source": [
    "# import data set\n",
    "budget_data = {}\n",
    "import csv\n",
    "\n",
    "with open(\"budget_data.csv\",\"r\") as csv_file:\n",
    "    csv_reader = csv.reader(csv_file)\n",
    "    \n",
    "#next(csv_reader)\n",
    "    \n",
    "    for row in csv_reader:\n",
    "#        print(line)\n",
    "        budget_data[row[0]] = row[1]\n",
    "#        budget_data = line\n",
    "#    for key, value in csv_reader.items():\n",
    "#        budget[key] = value\n",
    "print(budget_data)"
   ]
  },
  {
   "cell_type": "code",
   "execution_count": null,
   "metadata": {},
   "outputs": [],
   "source": [
    "# declare variables\n",
    "total_months = 0\n",
    "total_net = 0\n",
    "average_change = 0\n",
    "#greatest_increase = {}\n",
    "#greatest_decrease = {}"
   ]
  },
  {
   "cell_type": "code",
   "execution_count": null,
   "metadata": {},
   "outputs": [],
   "source": [
    "for key, value in budget_data.items():\n",
    "    total_months  +=1\n",
    "    total_net = total_net + int(value)\n",
    "#print(total_months)\n",
    "#print(total_net)"
   ]
  },
  {
   "cell_type": "code",
   "execution_count": null,
   "metadata": {},
   "outputs": [],
   "source": [
    "# average change\n",
    "total_change = 0\n",
    "number = 0\n",
    "number2 = list(budget_data.values())[0]\n",
    "change = 0\n",
    "minimum_key = \"\"\n",
    "minimum_value = 0\n",
    "maximum_key = \"\"\n",
    "maximum_value = 0\n",
    "for key, value in budget_data.items():\n",
    "    number = value\n",
    "    change = number - number2\n",
    "    if change == 0:\n",
    "        minimium_value = change\n",
    "        minimum_key = key\n",
    "    elif change < minimum_value:\n",
    "        minimum_value = change\n",
    "        minimum_key = key\n",
    "    if change == 0:\n",
    "        maximum_value = change\n",
    "        maximum_key = key\n",
    "    elif change > maximum_value:\n",
    "        maximum_value = change\n",
    "        maximum_key = key\n",
    "    total_change = total_change + change\n",
    "    number2 = value\n",
    "#print(total_change)    \n",
    "#print(f\"{minimum_key} : {minimum_value}\")\n",
    "#print(f\"{maximum_key} : {maximum_value}\")"
   ]
  },
  {
   "cell_type": "code",
   "execution_count": null,
   "metadata": {},
   "outputs": [],
   "source": [
    "avg_change = total_change/(total_months-1)\n",
    "#print(avg_change)"
   ]
  },
  {
   "cell_type": "code",
   "execution_count": null,
   "metadata": {},
   "outputs": [],
   "source": [
    "print(f\"Financial Analysis\")\n",
    "print(\"-------------\")\n",
    "print(f\"Total Months: {total_months}\")\n",
    "print(f\"Total: ${total_net}\")\n",
    "print(f\"Average Change: ${round(avg_change,2)}\")\n",
    "print(f\"Greatest Increase: {maximum_key}: ${maximum_value}\")\n",
    "print(f\"Greatest Decrease: {minimum_key}: ${minimum_value}\")"
   ]
  }
 ],
 "metadata": {
  "kernelspec": {
   "display_name": "Python 3",
   "language": "python",
   "name": "python3"
  },
  "language_info": {
   "codemirror_mode": {
    "name": "ipython",
    "version": 3
   },
   "file_extension": ".py",
   "mimetype": "text/x-python",
   "name": "python",
   "nbconvert_exporter": "python",
   "pygments_lexer": "ipython3",
   "version": "3.6.5"
  }
 },
 "nbformat": 4,
 "nbformat_minor": 4
}
