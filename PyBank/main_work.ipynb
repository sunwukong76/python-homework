{
 "cells": [
  {
   "cell_type": "code",
   "execution_count": 1,
   "metadata": {},
   "outputs": [],
   "source": [
    "#Your task is to create a Python script that analyzes the records to calculate each of the following:\n",
    "#The total number of months included in the dataset.\n",
    "#The net total amount of Profit/Losses over the entire period.\n",
    "#The average of the changes in Profit/Losses over the entire period.\n",
    "#The greatest increase in profits (date and amount) over the entire period.\n",
    "#The greatest decrease in losses (date and amount) over the entire period."
   ]
  },
  {
   "cell_type": "code",
   "execution_count": 2,
   "metadata": {},
   "outputs": [],
   "source": [
    "# import data set\n",
    "budget_data = {}\n",
    "import csv\n",
    "\n",
    "with open(\"budget_data.csv\",\"r\") as csv_file:\n",
    "    csv_reader = csv.reader(csv_file)\n",
    "    \n",
    "    next(csv_reader)\n",
    "    \n",
    "    for row in csv_reader:\n",
    "#        print(line)\n",
    "        budget_data[row[0]] = int(row[1])\n",
    "#        budget_data = line\n",
    "#    for key, value in csv_reader.items():\n",
    "#        budget[key] = value\n",
    "#print(budget_data)"
   ]
  },
  {
   "cell_type": "code",
   "execution_count": 3,
   "metadata": {},
   "outputs": [],
   "source": [
    "# declare variables\n",
    "total_months = 0\n",
    "total_net = 0\n",
    "average_change = 0\n",
    "#greatest_increase = {}\n",
    "#greatest_decrease = {}"
   ]
  },
  {
   "cell_type": "code",
   "execution_count": 4,
   "metadata": {},
   "outputs": [],
   "source": [
    "#next(budget_data)\n",
    "\n",
    "for key, value in budget_data.items():\n",
    "#    next(budget_data)\n",
    "    total_months  +=1\n",
    "    total_net = total_net + int(value)\n",
    "#print(total_months)\n",
    "#print(total_net)"
   ]
  },
  {
   "cell_type": "code",
   "execution_count": 5,
   "metadata": {},
   "outputs": [],
   "source": [
    "# average change\n",
    "total_change = 0\n",
    "number = 0\n",
    "number2 = list(budget_data.values())[0]\n",
    "change = 0\n",
    "minimum_key = \"\"\n",
    "minimum_value = 0\n",
    "maximum_key = \"\"\n",
    "maximum_value = 0\n",
    "for key, value in budget_data.items():\n",
    "    number = value\n",
    "    change = number - number2\n",
    "    if change == 0:\n",
    "        minimium_value = change\n",
    "        minimum_key = key\n",
    "    elif change < minimum_value:\n",
    "        minimum_value = change\n",
    "        minimum_key = key\n",
    "    if change == 0:\n",
    "        maximum_value = change\n",
    "        maximum_key = key\n",
    "    elif change > maximum_value:\n",
    "        maximum_value = change\n",
    "        maximum_key = key\n",
    "    total_change = total_change + change\n",
    "    number2 = value\n",
    "#print(total_change)    \n",
    "#print(f\"{minimum_key} : {minimum_value}\")\n",
    "#print(f\"{maximum_key} : {maximum_value}\")"
   ]
  },
  {
   "cell_type": "code",
   "execution_count": 6,
   "metadata": {},
   "outputs": [],
   "source": [
    "avg_change = total_change/(total_months-1)\n",
    "#print(avg_change)"
   ]
  },
  {
   "cell_type": "code",
   "execution_count": 7,
   "metadata": {},
   "outputs": [
    {
     "name": "stdout",
     "output_type": "stream",
     "text": [
      "Financial Analysis\n",
      "-------------\n",
      "Total Months: 86\n",
      "Total: $38382578\n",
      "Average Change: $-2315.12\n",
      "Greatest Increase: Feb-2012: $1926159\n",
      "Greatest Decrease: Sep-2013: $-2196167\n"
     ]
    }
   ],
   "source": [
    "print(f\"Financial Analysis\")\n",
    "print(\"-------------\")\n",
    "print(f\"Total Months: {total_months}\")\n",
    "print(f\"Total: ${total_net}\")\n",
    "print(f\"Average Change: ${round(avg_change,2)}\")\n",
    "print(f\"Greatest Increase: {maximum_key}: ${maximum_value}\")\n",
    "print(f\"Greatest Decrease: {minimum_key}: ${minimum_value}\")"
   ]
  },
  {
   "cell_type": "code",
   "execution_count": 1,
   "metadata": {},
   "outputs": [],
   "source": [
    "output_path = \"output.txt\""
   ]
  },
  {
   "cell_type": "code",
   "execution_count": null,
   "metadata": {},
   "outputs": [],
   "source": [
    "with open(output_path,\"w\")as file:\n",
    "    file.write(f\"Financial Analysis\\n\")\n",
    "    file.write(\"-------------\\n\")\n",
    "    file.write(f\"Total Months: {total_months}\\n\")\n",
    "    file.write(f\"Total: ${total_net}\\n\")\n",
    "    file.write(f\"Average Change: ${round(avg_change,2)}\\n\")\n",
    "    file.write(f\"Greatest Increase: {maximum_key}: ${maximum_value}\\n\")\n",
    "    file.write(f\"Greatest Decrease: {minimum_key}: ${minimum_value}\\n\")"
   ]
  }
 ],
 "metadata": {
  "kernelspec": {
   "display_name": "Python 3",
   "language": "python",
   "name": "python3"
  },
  "language_info": {
   "codemirror_mode": {
    "name": "ipython",
    "version": 3
   },
   "file_extension": ".py",
   "mimetype": "text/x-python",
   "name": "python",
   "nbconvert_exporter": "python",
   "pygments_lexer": "ipython3",
   "version": "3.6.5"
  }
 },
 "nbformat": 4,
 "nbformat_minor": 4
}
